{
 "cells": [
  {
   "cell_type": "code",
   "execution_count": 1,
   "metadata": {},
   "outputs": [],
   "source": [
    "## Jason Galvan"
   ]
  },
  {
   "cell_type": "code",
   "execution_count": 2,
   "metadata": {},
   "outputs": [
    {
     "name": "stdout",
     "output_type": "stream",
     "text": [
      "Requirement already up-to-date: gensim in /Users/batman/anaconda3/lib/python3.7/site-packages (3.8.3)\n",
      "Requirement already satisfied, skipping upgrade: numpy>=1.11.3 in /Users/batman/anaconda3/lib/python3.7/site-packages (from gensim) (1.16.4)\n",
      "Requirement already satisfied, skipping upgrade: scipy>=0.18.1 in /Users/batman/anaconda3/lib/python3.7/site-packages (from gensim) (1.3.0)\n",
      "Requirement already satisfied, skipping upgrade: six>=1.5.0 in /Users/batman/anaconda3/lib/python3.7/site-packages (from gensim) (1.12.0)\n",
      "Requirement already satisfied, skipping upgrade: smart-open>=1.8.1 in /Users/batman/anaconda3/lib/python3.7/site-packages (from gensim) (2.1.0)\n",
      "Requirement already satisfied, skipping upgrade: boto in /Users/batman/anaconda3/lib/python3.7/site-packages (from smart-open>=1.8.1->gensim) (2.49.0)\n",
      "Requirement already satisfied, skipping upgrade: boto3 in /Users/batman/anaconda3/lib/python3.7/site-packages (from smart-open>=1.8.1->gensim) (1.14.20)\n",
      "Requirement already satisfied, skipping upgrade: requests in /Users/batman/anaconda3/lib/python3.7/site-packages (from smart-open>=1.8.1->gensim) (2.22.0)\n",
      "Requirement already satisfied, skipping upgrade: s3transfer<0.4.0,>=0.3.0 in /Users/batman/anaconda3/lib/python3.7/site-packages (from boto3->smart-open>=1.8.1->gensim) (0.3.3)\n",
      "Requirement already satisfied, skipping upgrade: jmespath<1.0.0,>=0.7.1 in /Users/batman/anaconda3/lib/python3.7/site-packages (from boto3->smart-open>=1.8.1->gensim) (0.10.0)\n",
      "Requirement already satisfied, skipping upgrade: botocore<1.18.0,>=1.17.20 in /Users/batman/anaconda3/lib/python3.7/site-packages (from boto3->smart-open>=1.8.1->gensim) (1.17.20)\n",
      "Requirement already satisfied, skipping upgrade: chardet<3.1.0,>=3.0.2 in /Users/batman/anaconda3/lib/python3.7/site-packages (from requests->smart-open>=1.8.1->gensim) (3.0.4)\n",
      "Requirement already satisfied, skipping upgrade: urllib3!=1.25.0,!=1.25.1,<1.26,>=1.21.1 in /Users/batman/anaconda3/lib/python3.7/site-packages (from requests->smart-open>=1.8.1->gensim) (1.24.2)\n",
      "Requirement already satisfied, skipping upgrade: idna<2.9,>=2.5 in /Users/batman/anaconda3/lib/python3.7/site-packages (from requests->smart-open>=1.8.1->gensim) (2.8)\n",
      "Requirement already satisfied, skipping upgrade: certifi>=2017.4.17 in /Users/batman/anaconda3/lib/python3.7/site-packages (from requests->smart-open>=1.8.1->gensim) (2019.6.16)\n",
      "Requirement already satisfied, skipping upgrade: docutils<0.16,>=0.10 in /Users/batman/anaconda3/lib/python3.7/site-packages (from botocore<1.18.0,>=1.17.20->boto3->smart-open>=1.8.1->gensim) (0.14)\n",
      "Requirement already satisfied, skipping upgrade: python-dateutil<3.0.0,>=2.1 in /Users/batman/anaconda3/lib/python3.7/site-packages (from botocore<1.18.0,>=1.17.20->boto3->smart-open>=1.8.1->gensim) (2.8.0)\n",
      "Note: you may need to restart the kernel to use updated packages.\n"
     ]
    }
   ],
   "source": [
    "pip install --upgrade gensim"
   ]
  },
  {
   "cell_type": "code",
   "execution_count": 3,
   "metadata": {},
   "outputs": [],
   "source": [
    "import pandas as pd \n",
    "import gensim, operator\n",
    "from scipy import spatial\n",
    "import numpy as np\n",
    "from gensim.models import KeyedVectors"
   ]
  },
  {
   "cell_type": "code",
   "execution_count": 4,
   "metadata": {},
   "outputs": [],
   "source": [
    "model_path = '/Users/batman/Downloads/'"
   ]
  },
  {
   "cell_type": "code",
   "execution_count": 5,
   "metadata": {},
   "outputs": [],
   "source": [
    "#1.1 Loads the downloaded pre-trained Google Word2Vec model from your computer"
   ]
  },
  {
   "cell_type": "code",
   "execution_count": 6,
   "metadata": {},
   "outputs": [
    {
     "name": "stdout",
     "output_type": "stream",
     "text": [
      "Loading Word2Vec model...\n",
      "Finished loading Word2Vec model...\n"
     ]
    }
   ],
   "source": [
    "def load_wordvec_model(modelName, modelFile, flagBin):\n",
    "    print('Loading ' + modelName + ' model...')\n",
    "    model = KeyedVectors.load_word2vec_format(model_path + modelFile, binary=flagBin)\n",
    "    print('Finished loading ' + modelName + ' model...')\n",
    "    return model\n",
    "\n",
    "model_word2vec = load_wordvec_model('Word2Vec', 'GoogleNews-vectors-negative300.bin.gz', True)\n",
    "#model_word2vec = load_wordvec_model('Word2Vec', 'webhose_skipgram_300.bin', True)"
   ]
  },
  {
   "cell_type": "code",
   "execution_count": 7,
   "metadata": {},
   "outputs": [],
   "source": [
    "def vec_similarity(input1, input2, vectors):\n",
    "    term_vectors = [np.zeros(300), np.zeros(300)]\n",
    "    terms = [input1, input2]\n",
    "        \n",
    "    for index, term in enumerate(terms):\n",
    "        for i, t in enumerate(term.split(' ')):\n",
    "            try:\n",
    "                term_vectors[index] += vectors[t]\n",
    "            except:\n",
    "                term_vectors[index] += 0\n",
    "        \n",
    "    result = (1 - spatial.distance.cosine(term_vectors[0], term_vectors[1]))\n",
    "    if result is 'nan':\n",
    "        result = 0\n",
    "        \n",
    "    return result"
   ]
  },
  {
   "cell_type": "code",
   "execution_count": 8,
   "metadata": {},
   "outputs": [],
   "source": [
    "# Function checks whether the input words are present in the vocabulary for the model\n",
    "def vocab_check(vectors, words):\n",
    "    \n",
    "    output = list()\n",
    "    for word in words:\n",
    "        if word in vectors.vocab:\n",
    "            output.append(word.strip())\n",
    "            \n",
    "    return output"
   ]
  },
  {
   "cell_type": "code",
   "execution_count": 9,
   "metadata": {},
   "outputs": [],
   "source": [
    "# Function calculates similarity between two strings using a particular word vector model\n",
    "def calc_similarity(input1, input2, vectors):\n",
    "    s1words = set(vocab_check(vectors, input1.split()))\n",
    "    s2words = set(vocab_check(vectors, input2.split()))\n",
    "    #if len(s1words) < 1 | len(s2words) < 1:\n",
    "    #return 0\n",
    "    \n",
    "    try:\n",
    "        \n",
    "        output = vectors.n_similarity(s1words, s2words)\n",
    "    \n",
    "    except:\n",
    "        \n",
    "        output = 0\n",
    "        \n",
    "    return output"
   ]
  },
  {
   "cell_type": "code",
   "execution_count": 10,
   "metadata": {},
   "outputs": [],
   "source": [
    "# 1.2 Loads your previously obtained dataset of Webhose news articles"
   ]
  },
  {
   "cell_type": "code",
   "execution_count": 11,
   "metadata": {},
   "outputs": [],
   "source": [
    "import json"
   ]
  },
  {
   "cell_type": "code",
   "execution_count": 12,
   "metadata": {},
   "outputs": [
    {
     "name": "stdout",
     "output_type": "stream",
     "text": [
      "3779\n"
     ]
    }
   ],
   "source": [
    "json_data=open('/Users/batman/Downloads/webhose_IBM.json').readlines()\n",
    "newsfeeds_read = []\n",
    "for line in json_data:\n",
    "    newsfeeds_read.append(json.loads(line))\n",
    "print(len(newsfeeds_read))"
   ]
  },
  {
   "cell_type": "code",
   "execution_count": 13,
   "metadata": {},
   "outputs": [],
   "source": [
    "# Obtaining all Titles --isolating from remaining data\n",
    "total_list = []\n",
    "\n",
    "for feed in newsfeeds_read:\n",
    "    total_list.append(feed['title'])"
   ]
  },
  {
   "cell_type": "code",
   "execution_count": 14,
   "metadata": {},
   "outputs": [],
   "source": [
    "# Obtaining only Unique Titles amongst total listing \n",
    "unique_title = []\n",
    "\n",
    "for line in total_list:\n",
    "    if line not in unique_title:\n",
    "        unique_title.append(line)"
   ]
  },
  {
   "cell_type": "code",
   "execution_count": 15,
   "metadata": {},
   "outputs": [
    {
     "data": {
      "text/plain": [
       "3779"
      ]
     },
     "execution_count": 15,
     "metadata": {},
     "output_type": "execute_result"
    }
   ],
   "source": [
    "# Confirming total listing amount equals total length of dataset as imported--newsfeeds_read\n",
    "len(total_list)"
   ]
  },
  {
   "cell_type": "code",
   "execution_count": 16,
   "metadata": {},
   "outputs": [
    {
     "data": {
      "text/plain": [
       "2903"
      ]
     },
     "execution_count": 16,
     "metadata": {},
     "output_type": "execute_result"
    }
   ],
   "source": [
    "# Confirming length of only unique titles amongst total listing \n",
    "len(unique_title)"
   ]
  },
  {
   "cell_type": "code",
   "execution_count": 17,
   "metadata": {},
   "outputs": [
    {
     "name": "stdout",
     "output_type": "stream",
     "text": [
      "Microsoft joins Amazon, IBM in pausing face scans for police\n",
      "Microsoft joins Amazon, IBM in pausing face scans police\n",
      "Microsoft joins rivals, bars police use of face recognition tech\n",
      "Microsoft’s Brad Smith says company will not sell facial recognition tech to police\n",
      "Microsoft won’t sell police its facial-recognition tech, following similar moves by Amazon, IBM\n",
      "Helping to Accelerate the Search for Solutions to the COVID-19 Crisis\n",
      "Microsoft says it won’t sell facial recognition technology to police\n",
      "Microsoft Joins Rivals, Bars Police Use Of Face Recognition Tech\n",
      "Tech giants to stop selling facial recognition technology to the police following the death of George Floyd\n",
      "Microsoft says it won't sell its facial recognition tech to police\n"
     ]
    }
   ],
   "source": [
    "# Created a loop to print only 10 titles instead of 2903---allows me to inspect the data and efficiently \n",
    "#select a title   \n",
    "my_list = unique_title[:10]\n",
    "for i in my_list:\n",
    "    print(i)"
   ]
  },
  {
   "cell_type": "code",
   "execution_count": 18,
   "metadata": {},
   "outputs": [],
   "source": [
    "input1 = \"Microsoft joins Amazon, IBM in pausing face scans for police\""
   ]
  },
  {
   "cell_type": "code",
   "execution_count": 19,
   "metadata": {},
   "outputs": [],
   "source": [
    "# Using a for loop to compare titles to selected title \n",
    "total_output = []\n",
    "scores = {}\n",
    "for item in unique_title:\n",
    "    input2 = item\n",
    "    output = calc_similarity(input1, input2, model_word2vec)\n",
    "    \n",
    "    try:\n",
    "        output = calc_similarity(input1, input2, model_word2vec)\n",
    "        total_output.append((input2, output))\n",
    "    except ZeroDivisionError:\n",
    "        pass\n",
    "    #print(str2, output)"
   ]
  },
  {
   "cell_type": "code",
   "execution_count": 21,
   "metadata": {},
   "outputs": [],
   "source": [
    "# Converting total_output to pandas df in order to sort top 100 results in descending order\n",
    "from pandas import DataFrame    \n",
    "\n",
    "df = DataFrame (total_output,columns=['title', 'similarity scores'])"
   ]
  },
  {
   "cell_type": "code",
   "execution_count": 22,
   "metadata": {},
   "outputs": [
    {
     "data": {
      "text/plain": [
       "2903"
      ]
     },
     "execution_count": 22,
     "metadata": {},
     "output_type": "execute_result"
    }
   ],
   "source": [
    "len(df)"
   ]
  },
  {
   "cell_type": "code",
   "execution_count": 23,
   "metadata": {},
   "outputs": [
    {
     "data": {
      "text/html": [
       "<div>\n",
       "<style scoped>\n",
       "    .dataframe tbody tr th:only-of-type {\n",
       "        vertical-align: middle;\n",
       "    }\n",
       "\n",
       "    .dataframe tbody tr th {\n",
       "        vertical-align: top;\n",
       "    }\n",
       "\n",
       "    .dataframe thead th {\n",
       "        text-align: right;\n",
       "    }\n",
       "</style>\n",
       "<table border=\"1\" class=\"dataframe\">\n",
       "  <thead>\n",
       "    <tr style=\"text-align: right;\">\n",
       "      <th></th>\n",
       "      <th>index</th>\n",
       "      <th>title</th>\n",
       "      <th>similarity scores</th>\n",
       "    </tr>\n",
       "  </thead>\n",
       "  <tbody>\n",
       "    <tr>\n",
       "      <th>0</th>\n",
       "      <td>0</td>\n",
       "      <td>Microsoft joins Amazon, IBM in pausing face sc...</td>\n",
       "      <td>1.000000</td>\n",
       "    </tr>\n",
       "    <tr>\n",
       "      <th>1</th>\n",
       "      <td>1</td>\n",
       "      <td>Microsoft joins Amazon, IBM in pausing face sc...</td>\n",
       "      <td>0.991228</td>\n",
       "    </tr>\n",
       "    <tr>\n",
       "      <th>2</th>\n",
       "      <td>2</td>\n",
       "      <td>Microsoft joins rivals, bars police use of fac...</td>\n",
       "      <td>0.726344</td>\n",
       "    </tr>\n",
       "    <tr>\n",
       "      <th>3</th>\n",
       "      <td>255</td>\n",
       "      <td>IBM quits facial recognition, joins call for p...</td>\n",
       "      <td>0.694210</td>\n",
       "    </tr>\n",
       "    <tr>\n",
       "      <th>4</th>\n",
       "      <td>59</td>\n",
       "      <td>IBM quits facial recognition, joins call for p...</td>\n",
       "      <td>0.694210</td>\n",
       "    </tr>\n",
       "    <tr>\n",
       "      <th>5</th>\n",
       "      <td>122</td>\n",
       "      <td>Armonk-based IBM quits facial recognition, joi...</td>\n",
       "      <td>0.694210</td>\n",
       "    </tr>\n",
       "    <tr>\n",
       "      <th>6</th>\n",
       "      <td>188</td>\n",
       "      <td>IBM quits facial recognition, joins call for p...</td>\n",
       "      <td>0.693293</td>\n",
       "    </tr>\n",
       "    <tr>\n",
       "      <th>7</th>\n",
       "      <td>250</td>\n",
       "      <td>IBM quits facial recognition, joins call for p...</td>\n",
       "      <td>0.691081</td>\n",
       "    </tr>\n",
       "    <tr>\n",
       "      <th>8</th>\n",
       "      <td>110</td>\n",
       "      <td>IBM abandons development of facial recognition...</td>\n",
       "      <td>0.689923</td>\n",
       "    </tr>\n",
       "    <tr>\n",
       "      <th>9</th>\n",
       "      <td>234</td>\n",
       "      <td>IBM quits facial recognition, citing surveilla...</td>\n",
       "      <td>0.686724</td>\n",
       "    </tr>\n",
       "    <tr>\n",
       "      <th>10</th>\n",
       "      <td>436</td>\n",
       "      <td>IBM will stop working on facial recognition te...</td>\n",
       "      <td>0.684945</td>\n",
       "    </tr>\n",
       "    <tr>\n",
       "      <th>11</th>\n",
       "      <td>102</td>\n",
       "      <td>IBM quits facial recognition business, joins c...</td>\n",
       "      <td>0.683152</td>\n",
       "    </tr>\n",
       "    <tr>\n",
       "      <th>12</th>\n",
       "      <td>4</td>\n",
       "      <td>Microsoft won’t sell police its facial-recogni...</td>\n",
       "      <td>0.679404</td>\n",
       "    </tr>\n",
       "    <tr>\n",
       "      <th>13</th>\n",
       "      <td>353</td>\n",
       "      <td>IBM pulls out of facial recognition tech</td>\n",
       "      <td>0.679175</td>\n",
       "    </tr>\n",
       "    <tr>\n",
       "      <th>14</th>\n",
       "      <td>305</td>\n",
       "      <td>International Business Machines : IBM quits fa...</td>\n",
       "      <td>0.677136</td>\n",
       "    </tr>\n",
       "    <tr>\n",
       "      <th>15</th>\n",
       "      <td>443</td>\n",
       "      <td>IBM quits facial recognition, joins call for p...</td>\n",
       "      <td>0.673570</td>\n",
       "    </tr>\n",
       "    <tr>\n",
       "      <th>16</th>\n",
       "      <td>428</td>\n",
       "      <td>IBM quits facial recognition, joins call for p...</td>\n",
       "      <td>0.671556</td>\n",
       "    </tr>\n",
       "    <tr>\n",
       "      <th>17</th>\n",
       "      <td>196</td>\n",
       "      <td>Amazon pauses police use of facial recognition...</td>\n",
       "      <td>0.666658</td>\n",
       "    </tr>\n",
       "    <tr>\n",
       "      <th>18</th>\n",
       "      <td>225</td>\n",
       "      <td>IBM quits facial recognition, joins call for p...</td>\n",
       "      <td>0.662766</td>\n",
       "    </tr>\n",
       "    <tr>\n",
       "      <th>19</th>\n",
       "      <td>210</td>\n",
       "      <td>IBM gets 'woke,' pulls facial recognition soft...</td>\n",
       "      <td>0.662122</td>\n",
       "    </tr>\n",
       "    <tr>\n",
       "      <th>20</th>\n",
       "      <td>41</td>\n",
       "      <td>Amazon pauses police use of its facial recogni...</td>\n",
       "      <td>0.658457</td>\n",
       "    </tr>\n",
       "    <tr>\n",
       "      <th>21</th>\n",
       "      <td>39</td>\n",
       "      <td>Amazon pauses police use of its facial recogni...</td>\n",
       "      <td>0.657789</td>\n",
       "    </tr>\n",
       "    <tr>\n",
       "      <th>22</th>\n",
       "      <td>416</td>\n",
       "      <td>IBM stops offering facial recognition software</td>\n",
       "      <td>0.656178</td>\n",
       "    </tr>\n",
       "    <tr>\n",
       "      <th>23</th>\n",
       "      <td>469</td>\n",
       "      <td>facial recognition: IBM exits facial recogniti...</td>\n",
       "      <td>0.654916</td>\n",
       "    </tr>\n",
       "    <tr>\n",
       "      <th>24</th>\n",
       "      <td>466</td>\n",
       "      <td>IBM to drop facial recognition software in wak...</td>\n",
       "      <td>0.654387</td>\n",
       "    </tr>\n",
       "    <tr>\n",
       "      <th>25</th>\n",
       "      <td>6</td>\n",
       "      <td>Microsoft says it won’t sell facial recognitio...</td>\n",
       "      <td>0.652112</td>\n",
       "    </tr>\n",
       "    <tr>\n",
       "      <th>26</th>\n",
       "      <td>249</td>\n",
       "      <td>IBM gets 'woke,' pulls facial recognition soft...</td>\n",
       "      <td>0.651913</td>\n",
       "    </tr>\n",
       "    <tr>\n",
       "      <th>27</th>\n",
       "      <td>139</td>\n",
       "      <td>IBM abandons facial recognition software</td>\n",
       "      <td>0.649830</td>\n",
       "    </tr>\n",
       "    <tr>\n",
       "      <th>28</th>\n",
       "      <td>72</td>\n",
       "      <td>IBM will no longer work on facial recognition ...</td>\n",
       "      <td>0.646491</td>\n",
       "    </tr>\n",
       "    <tr>\n",
       "      <th>29</th>\n",
       "      <td>360</td>\n",
       "      <td>IBM gets out of the facial recognition business</td>\n",
       "      <td>0.646480</td>\n",
       "    </tr>\n",
       "    <tr>\n",
       "      <th>...</th>\n",
       "      <td>...</td>\n",
       "      <td>...</td>\n",
       "      <td>...</td>\n",
       "    </tr>\n",
       "    <tr>\n",
       "      <th>70</th>\n",
       "      <td>2412</td>\n",
       "      <td>VMware completes the native hybrid hyperscale ...</td>\n",
       "      <td>0.612010</td>\n",
       "    </tr>\n",
       "    <tr>\n",
       "      <th>71</th>\n",
       "      <td>330</td>\n",
       "      <td>IBM closes facial recognition business</td>\n",
       "      <td>0.611679</td>\n",
       "    </tr>\n",
       "    <tr>\n",
       "      <th>72</th>\n",
       "      <td>573</td>\n",
       "      <td>IBM stops work on facial recognition over huma...</td>\n",
       "      <td>0.610272</td>\n",
       "    </tr>\n",
       "    <tr>\n",
       "      <th>73</th>\n",
       "      <td>351</td>\n",
       "      <td>IBM abandons all facial recognition work over ...</td>\n",
       "      <td>0.609783</td>\n",
       "    </tr>\n",
       "    <tr>\n",
       "      <th>74</th>\n",
       "      <td>213</td>\n",
       "      <td>IBM quits facial recognition</td>\n",
       "      <td>0.609382</td>\n",
       "    </tr>\n",
       "    <tr>\n",
       "      <th>75</th>\n",
       "      <td>408</td>\n",
       "      <td>IBM exits facial recognition biz as CEO calls ...</td>\n",
       "      <td>0.606683</td>\n",
       "    </tr>\n",
       "    <tr>\n",
       "      <th>76</th>\n",
       "      <td>451</td>\n",
       "      <td>IBM quits facial recognition, joins call for p...</td>\n",
       "      <td>0.605217</td>\n",
       "    </tr>\n",
       "    <tr>\n",
       "      <th>77</th>\n",
       "      <td>448</td>\n",
       "      <td>IBM quits facial recognition, joins call for p...</td>\n",
       "      <td>0.605205</td>\n",
       "    </tr>\n",
       "    <tr>\n",
       "      <th>78</th>\n",
       "      <td>339</td>\n",
       "      <td>IBM exiting facial recognition as police can’t...</td>\n",
       "      <td>0.604627</td>\n",
       "    </tr>\n",
       "    <tr>\n",
       "      <th>79</th>\n",
       "      <td>568</td>\n",
       "      <td>IBM gets out of facial recognition business | ...</td>\n",
       "      <td>0.604486</td>\n",
       "    </tr>\n",
       "    <tr>\n",
       "      <th>80</th>\n",
       "      <td>474</td>\n",
       "      <td>In a letter to members of Congress, IBM says i...</td>\n",
       "      <td>0.602957</td>\n",
       "    </tr>\n",
       "    <tr>\n",
       "      <th>81</th>\n",
       "      <td>1855</td>\n",
       "      <td>IBM is latest tech giant to lay off staff amid...</td>\n",
       "      <td>0.602396</td>\n",
       "    </tr>\n",
       "    <tr>\n",
       "      <th>82</th>\n",
       "      <td>367</td>\n",
       "      <td>IBM scraps facial recognition tech that could ...</td>\n",
       "      <td>0.602243</td>\n",
       "    </tr>\n",
       "    <tr>\n",
       "      <th>83</th>\n",
       "      <td>381</td>\n",
       "      <td>IBM won’t develop facial recognition tech for ...</td>\n",
       "      <td>0.601966</td>\n",
       "    </tr>\n",
       "    <tr>\n",
       "      <th>84</th>\n",
       "      <td>306</td>\n",
       "      <td>IBM quits facial-recognition market over polic...</td>\n",
       "      <td>0.601534</td>\n",
       "    </tr>\n",
       "    <tr>\n",
       "      <th>85</th>\n",
       "      <td>714</td>\n",
       "      <td>Slack join hands with Amazon to take on Micros...</td>\n",
       "      <td>0.601419</td>\n",
       "    </tr>\n",
       "    <tr>\n",
       "      <th>86</th>\n",
       "      <td>426</td>\n",
       "      <td>IBM ends all facial recognition work as CEO ca...</td>\n",
       "      <td>0.601017</td>\n",
       "    </tr>\n",
       "    <tr>\n",
       "      <th>87</th>\n",
       "      <td>357</td>\n",
       "      <td>IBM to kill its own facial recognition technology</td>\n",
       "      <td>0.599764</td>\n",
       "    </tr>\n",
       "    <tr>\n",
       "      <th>88</th>\n",
       "      <td>67</td>\n",
       "      <td>Amazon stops police access to its facial recog...</td>\n",
       "      <td>0.599646</td>\n",
       "    </tr>\n",
       "    <tr>\n",
       "      <th>89</th>\n",
       "      <td>252</td>\n",
       "      <td>IBM ends facial recognition business, calls fo...</td>\n",
       "      <td>0.599427</td>\n",
       "    </tr>\n",
       "    <tr>\n",
       "      <th>90</th>\n",
       "      <td>36</td>\n",
       "      <td>Amazon pauses police use of facial recognition</td>\n",
       "      <td>0.598345</td>\n",
       "    </tr>\n",
       "    <tr>\n",
       "      <th>91</th>\n",
       "      <td>317</td>\n",
       "      <td>IBM to exit facial recognition business, oppos...</td>\n",
       "      <td>0.597737</td>\n",
       "    </tr>\n",
       "    <tr>\n",
       "      <th>92</th>\n",
       "      <td>337</td>\n",
       "      <td>George Floyd death: IBM scraps facial recognit...</td>\n",
       "      <td>0.597205</td>\n",
       "    </tr>\n",
       "    <tr>\n",
       "      <th>93</th>\n",
       "      <td>293</td>\n",
       "      <td>IBM stops selling \"general purpose\" facial rec...</td>\n",
       "      <td>0.596905</td>\n",
       "    </tr>\n",
       "    <tr>\n",
       "      <th>94</th>\n",
       "      <td>323</td>\n",
       "      <td>IBM steps back from facial recognition technol...</td>\n",
       "      <td>0.596627</td>\n",
       "    </tr>\n",
       "    <tr>\n",
       "      <th>95</th>\n",
       "      <td>386</td>\n",
       "      <td>IBM stops work on facial recognition over huma...</td>\n",
       "      <td>0.596429</td>\n",
       "    </tr>\n",
       "    <tr>\n",
       "      <th>96</th>\n",
       "      <td>332</td>\n",
       "      <td>IBM pulls out of facial recognition, fearing r...</td>\n",
       "      <td>0.596040</td>\n",
       "    </tr>\n",
       "    <tr>\n",
       "      <th>97</th>\n",
       "      <td>48</td>\n",
       "      <td>Amazon puts facial recognition for police on h...</td>\n",
       "      <td>0.595693</td>\n",
       "    </tr>\n",
       "    <tr>\n",
       "      <th>98</th>\n",
       "      <td>2319</td>\n",
       "      <td>A new team-up between Amazon and Red Hat may p...</td>\n",
       "      <td>0.595392</td>\n",
       "    </tr>\n",
       "    <tr>\n",
       "      <th>99</th>\n",
       "      <td>421</td>\n",
       "      <td>IBM to stop selling facial recognition technology</td>\n",
       "      <td>0.595070</td>\n",
       "    </tr>\n",
       "  </tbody>\n",
       "</table>\n",
       "<p>100 rows × 3 columns</p>\n",
       "</div>"
      ],
      "text/plain": [
       "    index                                              title  \\\n",
       "0       0  Microsoft joins Amazon, IBM in pausing face sc...   \n",
       "1       1  Microsoft joins Amazon, IBM in pausing face sc...   \n",
       "2       2  Microsoft joins rivals, bars police use of fac...   \n",
       "3     255  IBM quits facial recognition, joins call for p...   \n",
       "4      59  IBM quits facial recognition, joins call for p...   \n",
       "5     122  Armonk-based IBM quits facial recognition, joi...   \n",
       "6     188  IBM quits facial recognition, joins call for p...   \n",
       "7     250  IBM quits facial recognition, joins call for p...   \n",
       "8     110  IBM abandons development of facial recognition...   \n",
       "9     234  IBM quits facial recognition, citing surveilla...   \n",
       "10    436  IBM will stop working on facial recognition te...   \n",
       "11    102  IBM quits facial recognition business, joins c...   \n",
       "12      4  Microsoft won’t sell police its facial-recogni...   \n",
       "13    353           IBM pulls out of facial recognition tech   \n",
       "14    305  International Business Machines : IBM quits fa...   \n",
       "15    443  IBM quits facial recognition, joins call for p...   \n",
       "16    428  IBM quits facial recognition, joins call for p...   \n",
       "17    196  Amazon pauses police use of facial recognition...   \n",
       "18    225  IBM quits facial recognition, joins call for p...   \n",
       "19    210  IBM gets 'woke,' pulls facial recognition soft...   \n",
       "20     41  Amazon pauses police use of its facial recogni...   \n",
       "21     39  Amazon pauses police use of its facial recogni...   \n",
       "22    416     IBM stops offering facial recognition software   \n",
       "23    469  facial recognition: IBM exits facial recogniti...   \n",
       "24    466  IBM to drop facial recognition software in wak...   \n",
       "25      6  Microsoft says it won’t sell facial recognitio...   \n",
       "26    249  IBM gets 'woke,' pulls facial recognition soft...   \n",
       "27    139           IBM abandons facial recognition software   \n",
       "28     72  IBM will no longer work on facial recognition ...   \n",
       "29    360    IBM gets out of the facial recognition business   \n",
       "..    ...                                                ...   \n",
       "70   2412  VMware completes the native hybrid hyperscale ...   \n",
       "71    330             IBM closes facial recognition business   \n",
       "72    573  IBM stops work on facial recognition over huma...   \n",
       "73    351  IBM abandons all facial recognition work over ...   \n",
       "74    213                       IBM quits facial recognition   \n",
       "75    408  IBM exits facial recognition biz as CEO calls ...   \n",
       "76    451  IBM quits facial recognition, joins call for p...   \n",
       "77    448  IBM quits facial recognition, joins call for p...   \n",
       "78    339  IBM exiting facial recognition as police can’t...   \n",
       "79    568  IBM gets out of facial recognition business | ...   \n",
       "80    474  In a letter to members of Congress, IBM says i...   \n",
       "81   1855  IBM is latest tech giant to lay off staff amid...   \n",
       "82    367  IBM scraps facial recognition tech that could ...   \n",
       "83    381  IBM won’t develop facial recognition tech for ...   \n",
       "84    306  IBM quits facial-recognition market over polic...   \n",
       "85    714  Slack join hands with Amazon to take on Micros...   \n",
       "86    426  IBM ends all facial recognition work as CEO ca...   \n",
       "87    357  IBM to kill its own facial recognition technology   \n",
       "88     67  Amazon stops police access to its facial recog...   \n",
       "89    252  IBM ends facial recognition business, calls fo...   \n",
       "90     36     Amazon pauses police use of facial recognition   \n",
       "91    317  IBM to exit facial recognition business, oppos...   \n",
       "92    337  George Floyd death: IBM scraps facial recognit...   \n",
       "93    293  IBM stops selling \"general purpose\" facial rec...   \n",
       "94    323  IBM steps back from facial recognition technol...   \n",
       "95    386  IBM stops work on facial recognition over huma...   \n",
       "96    332  IBM pulls out of facial recognition, fearing r...   \n",
       "97     48  Amazon puts facial recognition for police on h...   \n",
       "98   2319  A new team-up between Amazon and Red Hat may p...   \n",
       "99    421  IBM to stop selling facial recognition technology   \n",
       "\n",
       "    similarity scores  \n",
       "0            1.000000  \n",
       "1            0.991228  \n",
       "2            0.726344  \n",
       "3            0.694210  \n",
       "4            0.694210  \n",
       "5            0.694210  \n",
       "6            0.693293  \n",
       "7            0.691081  \n",
       "8            0.689923  \n",
       "9            0.686724  \n",
       "10           0.684945  \n",
       "11           0.683152  \n",
       "12           0.679404  \n",
       "13           0.679175  \n",
       "14           0.677136  \n",
       "15           0.673570  \n",
       "16           0.671556  \n",
       "17           0.666658  \n",
       "18           0.662766  \n",
       "19           0.662122  \n",
       "20           0.658457  \n",
       "21           0.657789  \n",
       "22           0.656178  \n",
       "23           0.654916  \n",
       "24           0.654387  \n",
       "25           0.652112  \n",
       "26           0.651913  \n",
       "27           0.649830  \n",
       "28           0.646491  \n",
       "29           0.646480  \n",
       "..                ...  \n",
       "70           0.612010  \n",
       "71           0.611679  \n",
       "72           0.610272  \n",
       "73           0.609783  \n",
       "74           0.609382  \n",
       "75           0.606683  \n",
       "76           0.605217  \n",
       "77           0.605205  \n",
       "78           0.604627  \n",
       "79           0.604486  \n",
       "80           0.602957  \n",
       "81           0.602396  \n",
       "82           0.602243  \n",
       "83           0.601966  \n",
       "84           0.601534  \n",
       "85           0.601419  \n",
       "86           0.601017  \n",
       "87           0.599764  \n",
       "88           0.599646  \n",
       "89           0.599427  \n",
       "90           0.598345  \n",
       "91           0.597737  \n",
       "92           0.597205  \n",
       "93           0.596905  \n",
       "94           0.596627  \n",
       "95           0.596429  \n",
       "96           0.596040  \n",
       "97           0.595693  \n",
       "98           0.595392  \n",
       "99           0.595070  \n",
       "\n",
       "[100 rows x 3 columns]"
      ]
     },
     "execution_count": 23,
     "metadata": {},
     "output_type": "execute_result"
    }
   ],
   "source": [
    "# 1.3 For any one selected article title from the dataset, finds 100 most similar titles based \n",
    "#on Word2Vec similarity, prints those titles in a descending order of similarity scores.  \n",
    "\n",
    "import pandas as pd \n",
    "\n",
    "res = df.sort_values('similarity scores', ascending=False)[:100] \n",
    "res.reset_index()"
   ]
  },
  {
   "cell_type": "code",
   "execution_count": 24,
   "metadata": {},
   "outputs": [
    {
     "name": "stdout",
     "output_type": "stream",
     "text": [
      "Requirement already satisfied: pyspark in /Users/batman/anaconda3/lib/python3.7/site-packages (3.0.0)\n",
      "Requirement already satisfied: py4j==0.10.9 in /Users/batman/anaconda3/lib/python3.7/site-packages (from pyspark) (0.10.9)\n"
     ]
    }
   ],
   "source": [
    "!pip install pyspark"
   ]
  },
  {
   "cell_type": "code",
   "execution_count": 25,
   "metadata": {},
   "outputs": [
    {
     "name": "stdout",
     "output_type": "stream",
     "text": [
      "Using Apache Spark Version 3.0.0\n"
     ]
    }
   ],
   "source": [
    "from pyspark import SparkContext\n",
    "from pyspark.sql import SQLContext\n",
    "sc = SparkContext() \n",
    "sqlContext = SQLContext(sc)\n",
    "from pyspark.mllib.linalg import Vector, Vectors\n",
    "from pyspark.mllib.clustering import LDA, LDAModel\n",
    "from nltk.stem.wordnet import WordNetLemmatizer\n",
    "from pyspark.ml.feature import RegexTokenizer, StopWordsRemover, Word2Vec\n",
    "\n",
    "print(\"Using Apache Spark Version\", sc.version)"
   ]
  },
  {
   "cell_type": "code",
   "execution_count": 26,
   "metadata": {},
   "outputs": [],
   "source": [
    "# 2.1 Loading previously obtained dataset of Webhose news articles into Spark dataframe"
   ]
  },
  {
   "cell_type": "code",
   "execution_count": 27,
   "metadata": {},
   "outputs": [],
   "source": [
    "spark_df = sqlContext.read.option(\"header\", \"true\").option(\"delimiter\", \",\") \\\n",
    "                    .option(\"inferSchema\", \"true\") \\\n",
    "                    .json(\"/Users/batman/Downloads/webhose_IBM.json\")"
   ]
  },
  {
   "cell_type": "code",
   "execution_count": 28,
   "metadata": {},
   "outputs": [],
   "source": [
    "#2.2. Clean and tokenize article data using RegexTokenizer and Stopword functions\n",
    "\n",
    "data=spark_df['text']"
   ]
  },
  {
   "cell_type": "code",
   "execution_count": 29,
   "metadata": {},
   "outputs": [
    {
     "name": "stdout",
     "output_type": "stream",
     "text": [
      "Requirement already up-to-date: spacy in /Users/batman/anaconda3/lib/python3.7/site-packages (2.3.1)\n",
      "Requirement already satisfied, skipping upgrade: wasabi<1.1.0,>=0.4.0 in /Users/batman/anaconda3/lib/python3.7/site-packages (from spacy) (0.7.0)\n",
      "Requirement already satisfied, skipping upgrade: srsly<1.1.0,>=1.0.2 in /Users/batman/anaconda3/lib/python3.7/site-packages (from spacy) (1.0.2)\n",
      "Requirement already satisfied, skipping upgrade: catalogue<1.1.0,>=0.0.7 in /Users/batman/anaconda3/lib/python3.7/site-packages (from spacy) (1.0.0)\n",
      "Requirement already satisfied, skipping upgrade: requests<3.0.0,>=2.13.0 in /Users/batman/anaconda3/lib/python3.7/site-packages (from spacy) (2.22.0)\n",
      "Requirement already satisfied, skipping upgrade: plac<1.2.0,>=0.9.6 in /Users/batman/anaconda3/lib/python3.7/site-packages (from spacy) (1.1.3)\n",
      "Requirement already satisfied, skipping upgrade: numpy>=1.15.0 in /Users/batman/anaconda3/lib/python3.7/site-packages (from spacy) (1.16.4)\n",
      "Requirement already satisfied, skipping upgrade: tqdm<5.0.0,>=4.38.0 in /Users/batman/anaconda3/lib/python3.7/site-packages (from spacy) (4.47.0)\n",
      "Requirement already satisfied, skipping upgrade: thinc==7.4.1 in /Users/batman/anaconda3/lib/python3.7/site-packages (from spacy) (7.4.1)\n",
      "Requirement already satisfied, skipping upgrade: preshed<3.1.0,>=3.0.2 in /Users/batman/anaconda3/lib/python3.7/site-packages (from spacy) (3.0.2)\n",
      "Requirement already satisfied, skipping upgrade: cymem<2.1.0,>=2.0.2 in /Users/batman/anaconda3/lib/python3.7/site-packages (from spacy) (2.0.3)\n",
      "Requirement already satisfied, skipping upgrade: murmurhash<1.1.0,>=0.28.0 in /Users/batman/anaconda3/lib/python3.7/site-packages (from spacy) (1.0.2)\n",
      "Requirement already satisfied, skipping upgrade: blis<0.5.0,>=0.4.0 in /Users/batman/anaconda3/lib/python3.7/site-packages (from spacy) (0.4.1)\n",
      "Requirement already satisfied, skipping upgrade: setuptools in /Users/batman/anaconda3/lib/python3.7/site-packages (from spacy) (41.0.1)\n",
      "Requirement already satisfied, skipping upgrade: importlib-metadata>=0.20; python_version < \"3.8\" in /Users/batman/anaconda3/lib/python3.7/site-packages (from catalogue<1.1.0,>=0.0.7->spacy) (1.7.0)\n",
      "Requirement already satisfied, skipping upgrade: urllib3!=1.25.0,!=1.25.1,<1.26,>=1.21.1 in /Users/batman/anaconda3/lib/python3.7/site-packages (from requests<3.0.0,>=2.13.0->spacy) (1.24.2)\n",
      "Requirement already satisfied, skipping upgrade: certifi>=2017.4.17 in /Users/batman/anaconda3/lib/python3.7/site-packages (from requests<3.0.0,>=2.13.0->spacy) (2019.6.16)\n",
      "Requirement already satisfied, skipping upgrade: chardet<3.1.0,>=3.0.2 in /Users/batman/anaconda3/lib/python3.7/site-packages (from requests<3.0.0,>=2.13.0->spacy) (3.0.4)\n",
      "Requirement already satisfied, skipping upgrade: idna<2.9,>=2.5 in /Users/batman/anaconda3/lib/python3.7/site-packages (from requests<3.0.0,>=2.13.0->spacy) (2.8)\n",
      "Requirement already satisfied, skipping upgrade: zipp>=0.5 in /Users/batman/anaconda3/lib/python3.7/site-packages (from importlib-metadata>=0.20; python_version < \"3.8\"->catalogue<1.1.0,>=0.0.7->spacy) (0.5.1)\n",
      "Note: you may need to restart the kernel to use updated packages.\n"
     ]
    }
   ],
   "source": [
    "pip install -U spacy"
   ]
  },
  {
   "cell_type": "code",
   "execution_count": 30,
   "metadata": {},
   "outputs": [
    {
     "name": "stderr",
     "output_type": "stream",
     "text": [
      "[nltk_data] Downloading package punkt to /Users/batman/nltk_data...\n",
      "[nltk_data]   Package punkt is already up-to-date!\n"
     ]
    },
    {
     "data": {
      "text/plain": [
       "True"
      ]
     },
     "execution_count": 30,
     "metadata": {},
     "output_type": "execute_result"
    }
   ],
   "source": [
    "#Importing necessary libraries onto new system --no access previously downloads\n",
    "import nltk\n",
    "nltk.download('punkt')"
   ]
  },
  {
   "cell_type": "code",
   "execution_count": 31,
   "metadata": {},
   "outputs": [
    {
     "name": "stderr",
     "output_type": "stream",
     "text": [
      "[nltk_data] Downloading package stopwords to\n",
      "[nltk_data]     /Users/batman/nltk_data...\n",
      "[nltk_data]   Package stopwords is already up-to-date!\n",
      "[nltk_data] Downloading package wordnet to /Users/batman/nltk_data...\n",
      "[nltk_data]   Package wordnet is already up-to-date!\n"
     ]
    }
   ],
   "source": [
    "#Importing necessary libraries onto new system --no access previously downloads\n",
    "\n",
    "nltk.download('stopwords')\n",
    "from nltk.corpus import stopwords\n",
    "\n",
    "nltk.download('wordnet')\n",
    "from nltk.stem import WordNetLemmatizer"
   ]
  },
  {
   "cell_type": "code",
   "execution_count": 32,
   "metadata": {},
   "outputs": [],
   "source": [
    "import spacy\n",
    "import en_core_web_sm\n",
    "nlp = en_core_web_sm.load( disable=['parser', 'tagger','ner'] )\n",
    "\n",
    "def cleanup_pretokenize(data):\n",
    "    #text = re.sub(r'^https?:\\/\\/.*[\\r\\n]*', '', text, flags=re.MULTILINE)\n",
    "    text = re.sub(r'http\\S+', '', data)\n",
    "    text = text.replace(\"'s\", \" \")\n",
    "    text = text.replace(\"n't\", \" not \")\n",
    "    text = text.replace(\"'ve\", \" have \")\n",
    "    text = text.replace(\"'re\", \" are \")\n",
    "    text = text.replace(\"I'm\",\" I am \")\n",
    "    text = text.replace(\"you're\",\" you are \")\n",
    "    text = text.replace(\"You're\",\" You are \")\n",
    "    text = text.replace(\"-\",\" \")\n",
    "    text = text.replace(\"/\",\" \")\n",
    "    text = text.replace(\"(\",\" \")\n",
    "    text = text.replace(\")\",\" \")\n",
    "    text = text.replace(\"%\",\" percent \")\n",
    "    return text\n",
    "\n",
    "lmtzr = WordNetLemmatizer()\n",
    "def text_cleanup(row):\n",
    "    desc = row[2].strip().lower()\n",
    "    tokens = [w.lemma_ for w in nlp(cleanup_pretokenize(desc))]\n",
    "    tokens = [token for token in tokens if token.isalpha()]\n",
    "    tokens = [token for token in tokens if len(token) > 3]\n",
    "    #tokens = [lmtzr.lemmatize(token,'v') for token in tokens]\n",
    "    row[2] = ' '.join(tokens)\n",
    "    return row\n",
    "\n",
    "regexTokenizer = RegexTokenizer(gaps = False, pattern = '\\w+', inputCol = 'text', outputCol = 'tokens')\n",
    "swr = StopWordsRemover(inputCol = 'tokens', outputCol = 'tokens_sw_removed')"
   ]
  },
  {
   "cell_type": "code",
   "execution_count": 33,
   "metadata": {},
   "outputs": [],
   "source": [
    "ibmdata = spark_df['uuid','title','text']"
   ]
  },
  {
   "cell_type": "code",
   "execution_count": 36,
   "metadata": {},
   "outputs": [
    {
     "data": {
      "text/plain": [
       "3779"
      ]
     },
     "execution_count": 36,
     "metadata": {},
     "output_type": "execute_result"
    }
   ],
   "source": [
    "#Confirming correct size of dataset\n",
    "ibmdata.count()"
   ]
  },
  {
   "cell_type": "code",
   "execution_count": 37,
   "metadata": {},
   "outputs": [],
   "source": [
    "#Remove diplicates\n",
    "ibmdata2=ibmdata.drop_duplicates(subset=['title'])"
   ]
  },
  {
   "cell_type": "code",
   "execution_count": 38,
   "metadata": {},
   "outputs": [
    {
     "data": {
      "text/plain": [
       "2903"
      ]
     },
     "execution_count": 38,
     "metadata": {},
     "output_type": "execute_result"
    }
   ],
   "source": [
    "#Confirming correct length of the data after removing duplicates\n",
    "ibmdata2.count()"
   ]
  },
  {
   "cell_type": "code",
   "execution_count": 39,
   "metadata": {},
   "outputs": [
    {
     "name": "stdout",
     "output_type": "stream",
     "text": [
      "+--------------------+--------------------+--------------------+\n",
      "|                uuid|               title|                text|\n",
      "+--------------------+--------------------+--------------------+\n",
      "|abdd9354dd68f44c3...|           2020-4288|CVE-2020-4288 Det...|\n",
      "|8e3a552fadee4b091...|Amazon won’t say ...|Amazon’s facial r...|\n",
      "|562a381c7bfc37ea2...|Global Blockchain...|https://www.marke...|\n",
      "|3365120cf716a2d7a...|Hertz files for b...|The Chapter 11 fi...|\n",
      "|a8cc03ee6574b280e...|IBM adds AI-fuell...|Credit: Dreamstim...|\n",
      "+--------------------+--------------------+--------------------+\n",
      "only showing top 5 rows\n",
      "\n"
     ]
    }
   ],
   "source": [
    "crunchbase_columns = [0,1,2]\n",
    "crunchbase_rdd = ibmdata2.select('*') \\\n",
    "                       .rdd.map(lambda row: [row[i] for i in crunchbase_columns]) \\\n",
    "                       .filter(lambda row: row[1] is not None)\n",
    "crunchbase_df = sqlContext.createDataFrame(crunchbase_rdd, \n",
    "                                           ['uuid','title','text'])\n",
    "crunchbase_df.show(5)"
   ]
  },
  {
   "cell_type": "code",
   "execution_count": 40,
   "metadata": {},
   "outputs": [],
   "source": [
    "def cossim(v1, v2): \n",
    "    return np.dot(v1, v2) / np.sqrt(np.dot(v1, v1)) / (np.sqrt(np.dot(v2, v2))+.1)"
   ]
  },
  {
   "cell_type": "code",
   "execution_count": 41,
   "metadata": {},
   "outputs": [
    {
     "name": "stdout",
     "output_type": "stream",
     "text": [
      "+--------------------+--------------------+--------------------+--------------------+--------------------+\n",
      "|                uuid|               title|                text|              tokens|   tokens_sw_removed|\n",
      "+--------------------+--------------------+--------------------+--------------------+--------------------+\n",
      "|abdd9354dd68f44c3...|           2020-4288|CVE-2020-4288 Det...|[cve, 2020, 4288,...|[cve, 2020, 4288,...|\n",
      "|8e3a552fadee4b091...|Amazon won’t say ...|Amazon’s facial r...|[amazon, s, facia...|[amazon, facial, ...|\n",
      "|562a381c7bfc37ea2...|Global Blockchain...|https://www.marke...|[https, www, mark...|[https, www, mark...|\n",
      "|3365120cf716a2d7a...|Hertz files for b...|The Chapter 11 fi...|[the, chapter, 11...|[chapter, 11, fil...|\n",
      "|a8cc03ee6574b280e...|IBM adds AI-fuell...|Credit: Dreamstim...|[credit, dreamsti...|[credit, dreamsti...|\n",
      "+--------------------+--------------------+--------------------+--------------------+--------------------+\n",
      "only showing top 5 rows\n",
      "\n"
     ]
    }
   ],
   "source": [
    "df_tokens = regexTokenizer.transform(crunchbase_df)\n",
    "desc_swr = swr.transform(df_tokens)\n",
    "desc_swr.show(5)"
   ]
  },
  {
   "cell_type": "code",
   "execution_count": 42,
   "metadata": {},
   "outputs": [],
   "source": [
    "# 2.3 Train a Word2Vec model based on the output column produced in step 2"
   ]
  },
  {
   "cell_type": "code",
   "execution_count": 43,
   "metadata": {},
   "outputs": [
    {
     "name": "stdout",
     "output_type": "stream",
     "text": [
      "+--------------------+--------------------+--------------------+\n",
      "|                uuid|               title|         wordvectors|\n",
      "+--------------------+--------------------+--------------------+\n",
      "|abdd9354dd68f44c3...|           2020-4288|[-0.0206399736205...|\n",
      "|8e3a552fadee4b091...|Amazon won’t say ...|[-0.1234268072463...|\n",
      "|562a381c7bfc37ea2...|Global Blockchain...|[-0.0096478730347...|\n",
      "|3365120cf716a2d7a...|Hertz files for b...|[-0.0211732663956...|\n",
      "|a8cc03ee6574b280e...|IBM adds AI-fuell...|[-0.0237706488485...|\n",
      "+--------------------+--------------------+--------------------+\n",
      "only showing top 5 rows\n",
      "\n"
     ]
    }
   ],
   "source": [
    "word2vec = Word2Vec(vectorSize = 300, minCount = 5, inputCol = 'tokens_sw_removed', outputCol = 'wordvectors')\n",
    "model = word2vec.fit(desc_swr)\n",
    "wordvectors = model.transform(desc_swr)\n",
    "#wordvectors.select('wordvectors').show(1, truncate = True)\n",
    "crunchbase_desc = wordvectors.select('uuid','title','wordvectors').rdd.toDF()\n",
    "crunchbase_desc.show(5)"
   ]
  },
  {
   "cell_type": "code",
   "execution_count": 44,
   "metadata": {},
   "outputs": [],
   "source": [
    "# 2.4 Implement any sample search query, as shown in Class Exercise, and produce matching article titles"
   ]
  },
  {
   "cell_type": "code",
   "execution_count": 45,
   "metadata": {},
   "outputs": [
    {
     "name": "stdout",
     "output_type": "stream",
     "text": [
      "+-----------+------------------+\n",
      "|       word|        similarity|\n",
      "+-----------+------------------+\n",
      "|   concerns|0.7404017448425293|\n",
      "|incorrectly| 0.698283851146698|\n",
      "|  criticism|0.6786624193191528|\n",
      "|       laws|0.6733431816101074|\n",
      "| opposition|0.6728506088256836|\n",
      "|  advocates|0.6685310006141663|\n",
      "|  biometric|0.6667436957359314|\n",
      "| questioned|0.6633265018463135|\n",
      "|   suspects|0.6630204916000366|\n",
      "| criticized|0.6620674729347229|\n",
      "|    misused|0.6587579250335693|\n",
      "|   innocent|0.6524674892425537|\n",
      "|unregulated|0.6521512269973755|\n",
      "|     ceased|0.6508261561393738|\n",
      "|     biased|0.6492396593093872|\n",
      "|      flaws| 0.645483672618866|\n",
      "| researcher|0.6445693373680115|\n",
      "| unreliable| 0.636561930179596|\n",
      "|     pauses|0.6361752152442932|\n",
      "|     abuses|0.6321342587471008|\n",
      "+-----------+------------------+\n",
      "\n"
     ]
    }
   ],
   "source": [
    "synonyms = model.findSynonyms(\"privacy\", 20)   \n",
    "synonyms.show()"
   ]
  },
  {
   "cell_type": "code",
   "execution_count": 46,
   "metadata": {},
   "outputs": [],
   "source": [
    "#chunk = webhose_desc.filter(lambda r: r[1]>=0 and r[1]<1000).collect()\n",
    "chunk = crunchbase_desc.take(20000)\n",
    "#chunk = webhose_desc.collect()"
   ]
  },
  {
   "cell_type": "code",
   "execution_count": 47,
   "metadata": {},
   "outputs": [],
   "source": [
    "SEARCH_QUERY = \"Facial recognition technology violates privacy\""
   ]
  },
  {
   "cell_type": "code",
   "execution_count": 48,
   "metadata": {},
   "outputs": [
    {
     "name": "stdout",
     "output_type": "stream",
     "text": [
      "+-----+--------------------+--------------------+--------------------+\n",
      "|index|                text|              tokens|   tokens_sw_removed|\n",
      "+-----+--------------------+--------------------+--------------------+\n",
      "|    1|Facial recognitio...|[facial, recognit...|[facial, recognit...|\n",
      "+-----+--------------------+--------------------+--------------------+\n",
      "\n"
     ]
    }
   ],
   "source": [
    "query_df  = sc.parallelize([(1,SEARCH_QUERY)]).toDF(['index','text'])\n",
    "query_tok = regexTokenizer.transform(query_df)\n",
    "query_swr = swr.transform(query_tok)\n",
    "query_swr.show()\n",
    "query_vec = model.transform(query_swr)\n",
    "query_vec = query_vec.select('wordvectors').collect()[0][0]\n",
    "#query_vec"
   ]
  },
  {
   "cell_type": "code",
   "execution_count": 49,
   "metadata": {},
   "outputs": [
    {
     "name": "stdout",
     "output_type": "stream",
     "text": [
      "+----------------------------------------+---------------------------------------------------------------------------------------------------------------------------------------------------------+------------------+\n",
      "|uuid                                    |title                                                                                                                                                    |similarity        |\n",
      "+----------------------------------------+---------------------------------------------------------------------------------------------------------------------------------------------------------+------------------+\n",
      "|5269c3d61d7f7dc05bb4b1e37b383482179897b1|IBM to withdraw from the facial recognition market - CNET                                                                                                |0.8239450872461224|\n",
      "|1356ba050408d1d5e8696880d7a9ab1213835d34|IBM to withdraw from the facial recognition market out of profiling fears                                                                                |0.8224626326711744|\n",
      "|acd77ec9db03981328bd6ac1aa551cbc40015881|IBM announces exit of facial recognition business                                                                                                        |0.8187540027896297|\n",
      "|cf3c54f28f50b29866aee28cb1a0c33f0ae6d73d|IBM to no longer develop facial recognition technology                                                                                                   |0.8177414218500958|\n",
      "|0e9157ec38e0420cfd242febb9e7e6c92bb47e1a|IBM ends facial recognition business, calls for testing AI for bias                                                                                      |0.8141109102661263|\n",
      "|c79ac3aa7566ab8230ed69fc967e2c5644db4426|IBM Exits Facial Recognition Technology Business Over Biasness and Inequality                                                                            |0.8133833406641552|\n",
      "|35a0e6222ed7bdedd6c1c36a87c9e6877dd3d160|IBM to withdraw from the facial recognition market                                                                                                       |0.8132964331646934|\n",
      "|f73791602552f9dea23b167495b40993d49e55ea|IBM pulls out of facial recognition tech                                                                                                                 |0.8099999143563258|\n",
      "|9d36e10fbe13bf44c490639c833627123fc2dd26|IBM abandons development of facial recognition technology, joins call for police reform in US                                                            |0.8094973839912453|\n",
      "|4be5f3d0bf92a948f4ae44b241a09e1ea2970228|IBM To Withdraw From Facial Recognition Market Out Of Profiling Fears                                                                                    |0.8073407107763315|\n",
      "|636bfbc99a6fa07d038274c41d84c7f27618fe4f|IBM says it won't offer facial recognition, questions LE use                                                                                             |0.8003269916561265|\n",
      "|1bd3a3769124a87d32ba337d6f33ee0a27f371b6|IBM pulling out of facial recognition market out of profiling fears - CBS News                                                                           |0.7987068458268379|\n",
      "|f034b4a7b3150420b37ef329682c4c57a696f6a1|IBM quits facial recognition, joins call for police reforms                                                                                              |0.7966558800900673|\n",
      "|5aab3bce6ec8825530a276b03c9afdaf7b000d95|IBM Abandons Facial Recognition Products, Condemns Racially Biased Surveillance | 89.3 KPCC                                                              |0.7941663768935674|\n",
      "|a2c98c23d78bc37e42e823cb51ebe1fceeb863a0|IBM Pulls Plug on Facial Recognition Technology                                                                                                          |0.7940960816164595|\n",
      "|1b732bf7d87b8292a2cb3464614dff4e9ffb220f|IBM quits facial recognition, joins call for police reforms - Huron Daily Tribune                                                                        |0.792346916721835 |\n",
      "|127de8311fd2d8c6008a87f7e420ba606b4ee0ae|IBM quits facial recognition, joins call for police reforms (Business)                                                                                   |0.7922874891488353|\n",
      "|7bcf65521defbf14fd719c9ebdc53ad9992cef81|IBM's CEO said the firm will stop offering facial recognition software and called for 'national dialogue' on the use of the technology in law enforcement|0.7921652966235665|\n",
      "|cd767a62bc05f662afe2a409d6f8d19ad8833d0f|IBM says it will no longer sell facial recognition software, citing ethical concerns                                                                     |0.7910999477747594|\n",
      "|d86ab0e934bf90a6e7966790d557c9a0c587059e|IBM Abandons Facial Recognition Products, Condemns Racially Biased Surveillance                                                                          |0.7910805629659587|\n",
      "+----------------------------------------+---------------------------------------------------------------------------------------------------------------------------------------------------------+------------------+\n",
      "only showing top 20 rows\n",
      "\n"
     ]
    }
   ],
   "source": [
    "import numpy as np\n",
    "sim_rdd = sc.parallelize((i[0], i[1], float(cossim(query_vec, i[2]))) for i in chunk)\n",
    "sim_df  = sqlContext.createDataFrame(sim_rdd).\\\n",
    "                   withColumnRenamed('_1', 'uuid').\\\n",
    "                   withColumnRenamed('_2', 'title').\\\n",
    "                   withColumnRenamed('_3', 'similarity').\\\n",
    "                   orderBy(\"similarity\", ascending = False)\n",
    "sim_df.show(20, truncate = False)"
   ]
  },
  {
   "cell_type": "code",
   "execution_count": null,
   "metadata": {},
   "outputs": [],
   "source": [
    "#End of Assignment 6 "
   ]
  }
 ],
 "metadata": {
  "kernelspec": {
   "display_name": "Python 3",
   "language": "python",
   "name": "python3"
  },
  "language_info": {
   "codemirror_mode": {
    "name": "ipython",
    "version": 3
   },
   "file_extension": ".py",
   "mimetype": "text/x-python",
   "name": "python",
   "nbconvert_exporter": "python",
   "pygments_lexer": "ipython3",
   "version": "3.7.3"
  }
 },
 "nbformat": 4,
 "nbformat_minor": 2
}
