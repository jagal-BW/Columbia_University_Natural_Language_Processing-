{
 "cells": [
  {
   "cell_type": "code",
   "execution_count": 17,
   "metadata": {},
   "outputs": [],
   "source": [
    "#Student:  Jason Galvan "
   ]
  },
  {
   "cell_type": "code",
   "execution_count": 18,
   "metadata": {},
   "outputs": [
    {
     "name": "stdout",
     "output_type": "stream",
     "text": [
      "Requirement already satisfied: python-decouple in /Users/batman/opt/anaconda3/lib/python3.7/site-packages (3.3)\r\n"
     ]
    }
   ],
   "source": [
    "!pip install python-decouple"
   ]
  },
  {
   "cell_type": "code",
   "execution_count": 19,
   "metadata": {},
   "outputs": [
    {
     "data": {
      "text/plain": [
       "'/Users/batman/Downloads'"
      ]
     },
     "execution_count": 19,
     "metadata": {},
     "output_type": "execute_result"
    }
   ],
   "source": [
    "pwd #Checking file path "
   ]
  },
  {
   "cell_type": "code",
   "execution_count": 20,
   "metadata": {},
   "outputs": [
    {
     "name": "stdout",
     "output_type": "stream",
     "text": [
      "Requirement already satisfied: webhoseio in /Users/batman/opt/anaconda3/lib/python3.7/site-packages (0.5)\n",
      "Requirement already satisfied: requests>=2.0.0 in /Users/batman/opt/anaconda3/lib/python3.7/site-packages (from webhoseio) (2.22.0)\n",
      "Requirement already satisfied: certifi>=2017.4.17 in /Users/batman/opt/anaconda3/lib/python3.7/site-packages (from requests>=2.0.0->webhoseio) (2019.9.11)\n",
      "Requirement already satisfied: idna<2.9,>=2.5 in /Users/batman/opt/anaconda3/lib/python3.7/site-packages (from requests>=2.0.0->webhoseio) (2.8)\n",
      "Requirement already satisfied: chardet<3.1.0,>=3.0.2 in /Users/batman/opt/anaconda3/lib/python3.7/site-packages (from requests>=2.0.0->webhoseio) (3.0.4)\n",
      "Requirement already satisfied: urllib3!=1.25.0,!=1.25.1,<1.26,>=1.21.1 in /Users/batman/opt/anaconda3/lib/python3.7/site-packages (from requests>=2.0.0->webhoseio) (1.24.2)\n",
      "Note: you may need to restart the kernel to use updated packages.\n"
     ]
    }
   ],
   "source": [
    "pip install webhoseio"
   ]
  },
  {
   "cell_type": "code",
   "execution_count": 21,
   "metadata": {},
   "outputs": [],
   "source": [
    "#import webhoseio\n",
    "#from decouple import config\n",
    "\n",
    "#webhoseio.config(token=\"5b87d43e-893f-4a37-a09e-c44a09f1d93e\")\n",
    "\n",
    "#query_params = {\n",
    "\n",
    "#\"q\": \"language:english site_type:news organization: \\\"IBM\\\"\",\n",
    "\n",
    "#\"ts\": \"1588741358059\",\n",
    "\n",
    "#\"sort\": \"published\"\n",
    "\n",
    "#}"
   ]
  },
  {
   "cell_type": "code",
   "execution_count": 33,
   "metadata": {},
   "outputs": [],
   "source": [
    "import webhoseio\n",
    "\n",
    "webhoseio.config(token=\"5b87d43e-893f-4a37-a09e-c44a09f1d93e\")\n"
   ]
  },
  {
   "cell_type": "code",
   "execution_count": 41,
   "metadata": {},
   "outputs": [],
   "source": [
    "output = webhoseio.query(\"filterWebContent\", {'q': 'language: english', 'site_type': 'news', 'orgnization': 'IBM', 'sort': 'published'})"
   ]
  },
  {
   "cell_type": "code",
   "execution_count": 42,
   "metadata": {},
   "outputs": [
    {
     "ename": "IndexError",
     "evalue": "list index out of range",
     "output_type": "error",
     "traceback": [
      "\u001b[0;31m---------------------------------------------------------------------------\u001b[0m",
      "\u001b[0;31mIndexError\u001b[0m                                Traceback (most recent call last)",
      "\u001b[0;32m<ipython-input-42-ebadbfbe93e4>\u001b[0m in \u001b[0;36m<module>\u001b[0;34m\u001b[0m\n\u001b[0;32m----> 1\u001b[0;31m \u001b[0moutput\u001b[0m\u001b[0;34m[\u001b[0m\u001b[0;34m'posts'\u001b[0m\u001b[0;34m]\u001b[0m\u001b[0;34m[\u001b[0m\u001b[0;36m0\u001b[0m\u001b[0;34m]\u001b[0m\u001b[0;34m[\u001b[0m\u001b[0;34m'published'\u001b[0m\u001b[0;34m]\u001b[0m\u001b[0;34m\u001b[0m\u001b[0;34m\u001b[0m\u001b[0m\n\u001b[0m",
      "\u001b[0;31mIndexError\u001b[0m: list index out of range"
     ]
    }
   ],
   "source": [
    "output['posts'][0]['published']"
   ]
  },
  {
   "cell_type": "code",
   "execution_count": 25,
   "metadata": {},
   "outputs": [
    {
     "data": {
      "text/plain": [
       "dict"
      ]
     },
     "execution_count": 25,
     "metadata": {},
     "output_type": "execute_result"
    }
   ],
   "source": [
    "type(output) #Inspecting imported jsons/newsfeeds data: checking data type for variable output "
   ]
  },
  {
   "cell_type": "code",
   "execution_count": 26,
   "metadata": {},
   "outputs": [],
   "source": [
    "output= []\n",
    "\n",
    "while True:\n",
    "    temp= webhoseio.get_next()\n",
    "    output=output + temp['posts']\n",
    "    if temp['moreResultsAvailable'] <= 0:\n",
    "        break"
   ]
  },
  {
   "cell_type": "code",
   "execution_count": 27,
   "metadata": {},
   "outputs": [
    {
     "name": "stdout",
     "output_type": "stream",
     "text": [
      "11848\n"
     ]
    }
   ],
   "source": [
    "print(len(output))"
   ]
  },
  {
   "cell_type": "code",
   "execution_count": null,
   "metadata": {},
   "outputs": [],
   "source": [
    "#Obtaining remaining posts and adding them to newsfeeds as one collection + printing total length \n",
    "#(100 + remaining posts)\n",
    "\n",
    "###Total Collection size ='s 3970 newsfeeds/jsons in entire collection \n",
    "\n",
    "count = 0    \n",
    "while count < num_more_posts:    \n",
    "    output = webhoseio.get_next()\n",
    "    for post in output['posts']:\n",
    "        newsfeeds.append(post)\n",
    "    count += 100\n",
    "print(len(newsfeeds))"
   ]
  },
  {
   "cell_type": "code",
   "execution_count": 267,
   "metadata": {},
   "outputs": [],
   "source": [
    "#Writing total JSONs to a data file as one line per post JSON object\n",
    "\n",
    "import json  \n",
    "\n",
    "with open ('/Users/batman/Downloads/webhose_IBM.json', \"w\") as data_file:\n",
    "    for feed in newsfeeds:\n",
    "        line = json.dumps(feed)\n",
    "        data_file.write(line)\n",
    "        data_file.write(\"\\n\")"
   ]
  },
  {
   "cell_type": "code",
   "execution_count": 268,
   "metadata": {},
   "outputs": [
    {
     "name": "stdout",
     "output_type": "stream",
     "text": [
      "3970\n"
     ]
    }
   ],
   "source": [
    "#Reading JSON file back into Python array of JSON objects and confirming total count\n",
    "\n",
    "json_data=open('/Users/batman/Downloads/webhose_IBM.json').readlines()\n",
    "newsfeeds_read = []\n",
    "for line in json_data:\n",
    "    newsfeeds_read.append(json.loads(line))\n",
    "print(len(newsfeeds_read))"
   ]
  },
  {
   "cell_type": "code",
   "execution_count": 269,
   "metadata": {},
   "outputs": [
    {
     "data": {
      "text/plain": [
       "list"
      ]
     },
     "execution_count": 269,
     "metadata": {},
     "output_type": "execute_result"
    }
   ],
   "source": [
    "type(newsfeeds_read) #Inspecting data structure/type of variable newsfeeds_read"
   ]
  },
  {
   "cell_type": "code",
   "execution_count": 325,
   "metadata": {},
   "outputs": [
    {
     "name": "stdout",
     "output_type": "stream",
     "text": [
      "3095\n"
     ]
    }
   ],
   "source": [
    "###Creating a set of 'Unique' newsfeeds by title and printing new total collection size.  \n",
    "###Unique collection size is 3095\n",
    "\n",
    "###If remove # sign below the function will print ALL 3095 titles in collection with amount at the bottom.\n",
    "###Decided not to print the total amount for space purposes.  \n",
    "\n",
    "uniqueValue = []\n",
    "size=len(newsfeeds_read)\n",
    "uniqueNames = []\n",
    "\n",
    "for i in range(0,size,1):  \n",
    "    if(newsfeeds_read[i][\"title\"] not in uniqueNames):\n",
    "        uniqueNames.append(newsfeeds_read[i][\"title\"]) \n",
    "        uniqueValue.append(newsfeeds_read[i])\n",
    "        #print((newsfeeds_read[i][\"title\"])) \n",
    "    \n",
    "print(len(uniqueValue))"
   ]
  },
  {
   "cell_type": "code",
   "execution_count": 326,
   "metadata": {},
   "outputs": [],
   "source": [
    "#Alternate Method 1::  Using List function to ensure that function above is accurate in printing a Unique listing.  If \n",
    "#lengths match then unique listing is correct.     \n",
    "\n",
    "uniqueConfirmation = list({values['title']:values for values in newsfeeds_read}.values())"
   ]
  },
  {
   "cell_type": "code",
   "execution_count": 327,
   "metadata": {},
   "outputs": [
    {
     "name": "stdout",
     "output_type": "stream",
     "text": [
      "3095\n"
     ]
    }
   ],
   "source": [
    "print(len(uniqueConfirmation))  #Matching lengths ='s unique listing is correct.  "
   ]
  },
  {
   "cell_type": "code",
   "execution_count": 330,
   "metadata": {},
   "outputs": [],
   "source": [
    "#Alternate Method 2:: Converting newsfeeds_read to a df to show ease of creating unique listing by using pandas \n",
    "#to remove duplicates.\n",
    "\n",
    "from pandas import DataFrame    \n",
    "\n",
    "rf = DataFrame (newsfeeds_read,columns=['title', 'url', 'published'])"
   ]
  },
  {
   "cell_type": "code",
   "execution_count": 331,
   "metadata": {},
   "outputs": [],
   "source": [
    "#Dropping duplicate titles and printing length ='s 3095 as above.  Matching lengths='s unique listing is correct.  \n",
    "\n",
    "uniqueConfirmation2=rf.drop_duplicates(subset= 'title') "
   ]
  },
  {
   "cell_type": "code",
   "execution_count": 332,
   "metadata": {},
   "outputs": [
    {
     "name": "stdout",
     "output_type": "stream",
     "text": [
      "3095\n"
     ]
    }
   ],
   "source": [
    "print(len(uniqueConfirmation2)) #lengths match (3095)---therefore confirming alternate method for creating unique listing.  "
   ]
  },
  {
   "cell_type": "code",
   "execution_count": 276,
   "metadata": {},
   "outputs": [
    {
     "name": "stdout",
     "output_type": "stream",
     "text": [
      "IBMQuitsFacialRecognition,JoinsCall forPoliceReforms\n",
      "http://missouri.statenews.net/news/265402030/ibmquitsfacialrecognitionjoinscall-forpolicereforms\n",
      "2020-06-11T05:05:00.000+03:00\n",
      "Amazon puts police use of facial recognition tech on hold for a year\n",
      "https://www.slashgear.com/amazon-puts-police-use-of-facial-recognition-tech-on-hold-for-a-year-10624391/\n",
      "2020-06-11T04:58:00.000+03:00\n",
      "Amazon bans police use of its face recognition for a year\n",
      "https://www.ksbw.com/article/amazon-bans-police-use-of-its-face-recognition-for-a-year-1/32830484\n",
      "2020-06-11T04:15:00.000+03:00\n",
      "Server and storage sales plummet in 2020\n",
      "https://www.techradar.com/news/server-and-storage-sales-plummet-in-2020\n",
      "2020-06-11T04:01:00.000+03:00\n",
      "Fast Path Indexer (PFX) initialization may fail in IMS Control Regions or DLISAS Regions after applying IMS 15.1 (PUT2004) maintenance\n",
      "https://communities.bmc.com/docs/DOC-129465\n",
      "2020-06-11T03:08:00.000+03:00\n",
      "Amazon pauses police use of its facial recognition for year\n",
      "https://www.detroitnews.com/story/business/2020/06/10/amazon-pauses-police-use-facial-recognition-year/111945176/\n",
      "2020-06-11T03:00:00.000+03:00\n",
      "Lettuce Encrypt, Encrypt We Must: Hobby projects change name after Let's Encrypt fires off trademark complaints\n",
      "https://www.theregister.com/2020/06/10/lets_encrypt_trademark_complaints/\n",
      "2020-06-11T03:00:00.000+03:00\n",
      "Amazon Halts Police Use Of Its Facial Recognition Technology : NPR\n",
      "https://www.npr.org/2020/06/10/874418013/amazon-halts-police-use-of-its-facial-recognition-technology?utm_source=dlvr.it&utm_medium=twitter\n",
      "2020-06-11T03:00:00.000+03:00\n",
      "Hand-holding Kolkata’s aged by means of the lockdown\n",
      "https://newinfoline.com/hand-holding-kolkatas-aged-by-means-of-the-lockdown/\n",
      "2020-06-11T03:00:00.000+03:00\n",
      "Amazon pauses police use of facial recognition\n",
      "https://sg.news.yahoo.com/amazon-pauses-police-facial-recognition-235940714.html\n",
      "2020-06-11T02:59:00.000+03:00\n",
      "Amazon suspends police use of facial recognition software for one year\n",
      "https://statescoop.com/amazon-rekognition-suspends-police-use-facial-recognition-software-one-year/\n",
      "2020-06-11T02:33:00.000+03:00\n",
      "Amazon Halts Police Use Of Its Facial Recognition Technology\n",
      "https://www.wdiy.org/post/amazon-halts-police-use-its-facial-recognition-technology\n",
      "2020-06-11T02:29:00.000+03:00\n",
      "AI in Fintech Market Production & Demand by 2028 | Microsoft (US), Google (California, US), Salesforce.com (US), IBM (US), Intel (US), Amazon Web Services (US), Inbenta Technologies (US), IPsoft (US), Nuance Communications (US), ComplyAdvantage.com (US) - 3rd Watch News\n",
      "https://3wnews.org/uncategorised/1287539/ai-in-fintech-market-production-demand-by-2028-microsoft-us-google-california-us-salesforce-com-us-ibm-us-intel-us-amazon-web-services-us-inbenta-technologies-us-ipsoft/\n",
      "2020-06-11T02:24:00.000+03:00\n",
      "Amazon pauses police use of its facial recognition software\n",
      "https://finance.yahoo.com/news/amazon-pauses-police-facial-recognition-232219048.html\n",
      "2020-06-11T02:22:00.000+03:00\n",
      "Amazon announces one-year pause on police use of its facial recognition tech\n",
      "https://www.seattlepi.com/cnet/article/Amazon-announces-one-year-pause-on-facial-15331241.php\n",
      "2020-06-11T02:18:00.000+03:00\n",
      "Amazon pauses police use of its facial recognition software | News\n",
      "http://www.aljazeera.com/ajimpact/amazon-pauses-police-facial-recognition-software-200610223207468.html\n",
      "2020-06-11T02:14:00.000+03:00\n",
      "Amazon won’t say if its facial recognition moratorium applies to the feds\n",
      "https://www.rocketnews.com/2020/06/amazon-wont-say-if-its-facial-recognition-moratorium-applies-to-the-feds/\n",
      "2020-06-11T02:11:00.000+03:00\n",
      "Amazon won't say if its facial recognition moratorium applies to the feds\n",
      "http://xyznews.com.ng/news/1010335/amazon-won-039-t-say-if-its-facial-recognition-moratorium-applies-to-the-feds\n",
      "2020-06-11T02:02:00.000+03:00\n",
      "Amazon Puts One-Year Moratorium on Police Use of Facial Recognition Technology\n",
      "https://sputniknews.com/us/202006101079579536-amazon-puts-one-year-moratorium-on-police-use-of-facial-recognition-technology/\n",
      "2020-06-11T01:58:00.000+03:00\n",
      "Amazon curbs police use of facial recognition software for one year\n",
      "https://www.foxbusiness.com/technology/amazon-halts-police-use-of-facial-recognition-software-for-one-year\n",
      "2020-06-11T01:57:00.000+03:00\n",
      "Amazon won't say if facial recognition moratorium applies to the feds\n",
      "https://technewstube.com/techcrunch/1242168/amazon-wont-say-facial-recognition-moratorium-applies-to/\n",
      "2020-06-11T01:55:00.000+03:00\n",
      "Amazon's facial recognition moratorium has major loopholes\n",
      "https://sg.finance.yahoo.com/news/amazon-wont-facial-recognition-moratorium-225540814.html\n",
      "2020-06-11T01:55:00.000+03:00\n",
      "Amazon Is Suspending Police Use Of Its Facial Recognition Tech For One Year\n",
      "https://politomix.com/buzzfeed-news/1715796/amazon-suspending-police-use-facial-recognition-tech-one/\n",
      "2020-06-11T01:48:00.000+03:00\n",
      "Amazon puts facial recognition for police on hold for 1 year\n",
      "https://www.13newsnow.com/article/news/nation-world/amazon-facial-recognition-police-pause/507-9aef9e3e-9ba8-4732-95c7-ca84b999eab8\n",
      "2020-06-11T01:45:00.000+03:00\n",
      "Amazon just followed IBM's lead in reigniting the discussion around whether AI is biased, but more needs to be done to ensure the technology isn't racist\n",
      "https://www.businessinsider.com/analysis-why-the-blm-protests-may-force-an-ai-reckoning-2020-6\n",
      "2020-06-11T01:27:00.000+03:00\n",
      "Amazon Halts Use Of 'Racist' Facial Recognition Software By Police\n",
      "http://feeds.feedburner.com/technology/amazon-halts-use-racist-facial-recognition-software-police\n",
      "2020-06-11T01:10:00.000+03:00\n",
      "Amazon Pauses Facial Recognition Technology for Police Use\n",
      "https://www.channele2e.com/equality/amazon-pauses-facial-recognition-technology-for-police-use/\n",
      "2020-06-11T01:07:00.000+03:00\n",
      "Amazon puts one-year moratorium on Rekognition facial recognition technology for police use\n",
      "https://www.zdnet.com/article/amazon-puts-one-year-moratorium-on-rekognition-facial-recognition-technology-for-police-use/\n",
      "2020-06-11T01:06:00.000+03:00\n",
      "Hand-holding Kolkata’s elderly through the lockdown\n",
      "https://www.thehindu.com/news/national/other-states/hand-holding-kolkatas-elderly-through-the-lockdown/article31799942.ece\n",
      "2020-06-11T01:05:00.000+03:00\n",
      "Amazon Puts 1-Year Ban on Police Use of its Biased Facial Recognition Software\n",
      "https://www.vice.com/en_us/article/935ayv/amazon-puts-1-year-ban-on-police-use-of-its-biased-facial-recognition-software\n",
      "2020-06-11T01:00:00.000+03:00\n",
      "Artificial Intelligence Policies and Potential Regulations: The Update\n",
      "https://www.channele2e.com/equality/artificial-intelligence-regulations-policies-privacy/\n",
      "2020-06-11T01:00:00.000+03:00\n",
      "Pinnacle Holdings LLC Buys 1,610 Shares of IBM (NYSE:IBM)\n",
      "https://www.americanbankingnews.com/2020/06/10/pinnacle-holdings-llc-buys-1610-shares-of-ibm-nyseibm.html\n",
      "2020-06-11T00:42:00.000+03:00\n",
      "IBM: Security in the Cloud Remains Challenged by Complexity and Shadow IT\n",
      "https://www.prnewswire.com/news-releases/ibm-security-in-the-cloud-remains-challenged-by-complexity-and-shadow-it-301073885.html\n",
      "2020-06-11T00:00:00.000+03:00\n",
      "Managed File Transfer Software Market May See a Big Move : IBM, Axway, Hightail\n",
      "http://www.sbwire.com/press-releases/managed-file-transfer-software-market-may-see-a-big-move-ibm-axway-hightail-1293776.htm\n",
      "2020-06-10T23:41:00.000+03:00\n",
      "IT Application Development Services Market May Set New Growth Story : Fujitsu, IBM, Microsoft, Oracle, Red Hat\n",
      "http://www.sbwire.com/press-releases/it-application-development-services-market-may-set-new-growth-story-fujitsu-ibm-microsoft-oracle-red-hat-1293736.htm\n",
      "2020-06-10T23:24:00.000+03:00\n",
      "IT and BPO Services Market Worth Observing Growth : Capgemini, CSC, IBM, TCS\n",
      "http://www.sbwire.com/press-releases/it-and-bpo-services-market-worth-observing-growth-capgemini-csc-ibm-tcs-1293732.htm\n",
      "2020-06-10T23:22:00.000+03:00\n",
      "Cloud Supply Chain Management Market 2025 : Descartes Systems Group, Inc., JDA Software Group, Inc.\n",
      "http://www.sbwire.com/press-releases/cloud-supply-chain-management-market-2025-descartes-systems-group-inc-jda-software-group-inc-1293727.htm\n",
      "2020-06-10T23:17:00.000+03:00\n",
      "RESERVA FEDERAL: EL DESEMPLEO CAERÁ A 9.3% PARA FINES DE 2020. “FUE MUY SEVERO PARA LOS HISPANOS”\n",
      "https://www.negociosmagazine.com/reserva-federal-el-desempleo-caera-a-9-3-para-fines-de-2020-fue-muy-severo-para-los-hispanos/\n",
      "2020-06-10T22:48:00.000+03:00\n",
      "IBM Punts on Facial Recognition – And Why That Is A Mistake\n",
      "https://www.tekedia.com/ibm-punts-on-facial-recognition-and-why-that-is-a-mistake/\n",
      "2020-06-10T22:39:00.000+03:00\n",
      "Amazon stops police access to its facial recognition technology for one year\n",
      "https://www.vox.com/recode/2020/6/10/21287194/amazon-facial-recognition-moratorium-police\n",
      "2020-06-10T22:31:00.000+03:00\n",
      "How Artificial Intelligence in Transportation Market May Turn as Winner After Covid-19 Scenario? IBM, Alphabet, Intel\n",
      "http://www.sbwire.com/press-releases/how-artificial-intelligence-in-transportation-market-may-turn-as-winner-after-covid-19-scenario-ibm-alphabet-intel-1293684.htm\n",
      "2020-06-10T22:06:00.000+03:00\n",
      "IBM’s facial recognition protest, explained\n",
      "https://www.vox.com/recode/2020/6/10/21285658/ibm-facial-recognition-technology-bias-business\n",
      "2020-06-10T22:00:00.000+03:00\n",
      "The Only Thing Worse Than Proprietary Software Companies is Proprietary Software Companies That Patent Algorithms\n",
      "http://techrights.org/2020/06/10/ibm-hardly-changing/\n",
      "2020-06-10T21:58:00.000+03:00\n",
      "IBM Ends Facial Recognition Technology, Urges Congress to Address Racial Injustice\n",
      "https://www.tekedia.com/ibm-ends-facial-recognition-technology-urges-congress-to-address-racial-injustice/\n",
      "2020-06-10T21:33:00.000+03:00\n",
      "IBM will no longer work on facial recognition software\n",
      "https://www.criticalhit.net/technology/ibm-will-no-longer-work-on-facial-recognition-software/\n",
      "2020-06-10T21:30:00.000+03:00\n",
      "APG Asset Management N.V. Has $169.28 Million Stake in T-Mobile Us Inc (NASDAQ:TMUS)\n",
      "https://www.americanbankingnews.com/2020/06/10/apg-asset-management-n-v-has-169-28-million-stake-in-t-mobile-us-inc-nasdaqtmus.html\n",
      "2020-06-10T21:11:00.000+03:00\n",
      "Massachusetts Financial Services Co. MA Decreases Stake in Chipotle Mexican Grill, Inc. (NYSE:CMG)\n",
      "https://www.americanbankingnews.com/2020/06/10/massachusetts-financial-services-co-ma-decreases-stake-in-chipotle-mexican-grill-inc-nysecmg.html\n",
      "2020-06-10T21:11:00.000+03:00\n",
      "Making a Case for Cloud Migration Amidst COVID-19\n",
      "https://www.openarc.net/making-a-case-for-cloud-migration-amidst-covid-19/\n",
      "2020-06-10T20:57:00.000+03:00\n",
      "IBM Quits Facial Recognition, Urges Debate\n",
      "https://www.wltz.com/2020/06/10/ibm-quits-facial-recognition-urges-debate/\n",
      "2020-06-10T20:45:00.000+03:00\n",
      "Amazon bans police from using its facial recognition technology for the next year\n",
      "https://www.theverge.com/2020/6/10/21287101/amazon-rekognition-facial-recognition-police-ban-one-year-ai-racial-bias\n",
      "2020-06-10T20:37:00.000+03:00\n",
      "Amazon declares ‘moratorium’ on police use of its ‘racist’ facial recognition tech USA News\n",
      "https://www.rt.com/usa/491475-amazon-ban-police-facial-recognition/\n",
      "2020-06-10T20:34:00.000+03:00\n",
      "Edgestream Partners L.P. Acquires Shares of 27,349 Microchip Technology Inc. (NASDAQ:MCHP)\n",
      "https://www.americanbankingnews.com/2020/06/10/edgestream-partners-l-p-acquires-shares-of-27349-microchip-technology-inc-nasdaqmchp.html\n",
      "2020-06-10T20:25:00.000+03:00\n",
      "IBM Halts Facial Recognition Sales\n",
      "https://www.enterpriseai.news/2020/06/10/ibm-halts-facial-recognition-sales/\n",
      "2020-06-10T20:20:00.000+03:00\n",
      "Uncomfortable Conversations: 'I was constantly feeling unsupported and unsafe'\n",
      "https://adage.com/article/agency-news/uncomfortable-conversations-i-was-constantly-feeling-unsupported-and-unsafe/2261251\n",
      "2020-06-10T20:11:00.000+03:00\n",
      "Healthcare BPO Services Market New Innovative Solutions To Boost Global Growth With Top Key Players- Accenture, WNS, Invensis Technologies, nfosys Limited, Tata Consultancy Services Limited, Genpact, Xerox\n",
      "https://icrowdnewswire.com/2020/06/10/healthcare-bpo-services-market-new-innovative-solutions-to-boost-global-growth-with-top-key-players-accenture-wns-invensis-technologies-nfosys-limited-tata-consultancy-services-limited-genpact/\n",
      "2020-06-10T20:00:00.000+03:00\n",
      "IBM quits making facial recognition technology\n",
      "https://www.phoneworld.com.pk/ibm-quits-making-facial-recognition-technology/\n",
      "2020-06-10T19:25:00.000+03:00\n",
      "IBM's push for stricter facial recognition software regulation is likely an attempt to sidestep public backlash\n",
      "https://technewstube.com/business-insider/1242019/ibms-push-stricter-facial-recognition-software-regulation/\n",
      "2020-06-10T19:03:00.000+03:00\n",
      "IBM's push for stricter facial recognition software\n",
      "https://www.onenewspage.com/n/Technology/1zlsbu2t1m/IBM-push-for-stricter-facial-recognition-software.htm\n",
      "2020-06-10T19:03:00.000+03:00\n",
      "Weather Company lays off dozens, shutters popular Weather Underground 'Category 6' blog - NewsTimes\n",
      "https://www.newstimes.com/news/article/Weather-Company-lays-off-dozens-shutters-popular-15330054.php?utm_campaign=CMS%20Sharing%20Tools%20(Desktop)&utm_source=t.co&utm_medium=referral\n",
      "2020-06-10T18:36:00.000+03:00\n",
      "IBM Cloud suffers widespread outage on Tuesday, but services are now up and running\n",
      "https://www.fiercetelecom.com/telecom/ibm-cloud-suffers-widespread-outage-tuesday-but-services-are-now-up-and-running\n",
      "2020-06-10T18:22:00.000+03:00\n",
      "Broadband Roundup: IBM Pulls Facial Recognition, Public Knowledge Says No to Facebook, Comcast Pledges to Diversity\n",
      "http://broadbandbreakfast.com/2020/06/broadband-roundup-ibm-pulls-facial-recognition-public-knowledge-says-no-to-facebook-comcast-pledges-to-diversity/\n",
      "2020-06-10T18:17:00.000+03:00\n",
      "20/20, June 10, 2020 – 1\n",
      "https://goldenageofgaia.com/2020/06/10/20-20-june-10-2020-1/\n",
      "2020-06-10T18:12:00.000+03:00\n",
      "Reports: Cloudera a Target for Acquisition\n",
      "https://channelnomics.com/2020/06/10/reports-cloudera-a-target-for-acquisition/\n",
      "2020-06-10T18:11:00.000+03:00\n",
      "NATHAN GLEN SMITH\n",
      "http://jcsentinel.com/obituaries/article_c42b4090-ab2a-11ea-a208-bf5da441aff4.html\n",
      "2020-06-10T17:57:00.000+03:00\n",
      "IBM Cancels All Facial Recognition Programs, Urges Police Reform\n",
      "https://www.silicon.co.uk/e-innovation/artificial-intelligence/ibm-cancels-facial-recognition-345661\n",
      "2020-06-10T17:46:00.000+03:00\n",
      "The Dow Market Happenings For Wednesday, June 10, 2020\n",
      "http://www.dow-jones-djia.com/2020/06/10/the-dow-market-happenings-for-wednesday-june-10-2020/\n",
      "2020-06-10T17:41:00.000+03:00\n",
      "Dell’s Rory Read to Take Over as Vonage CEO\n",
      "https://channelnomics.com/2020/06/10/dells-rory-read-to-take-over-as-vonage-ceo/\n",
      "2020-06-10T17:40:00.000+03:00\n",
      "Global Security Intelligence and Analytics Solutions Market Insights Report 2020-2026 with Coronavirus (COVID-19) Effect Analysis : Blue Coat Systems, IBM, Juniper Networks, McAfee, Symantec, Cisco, HP, AVG\n",
      "http://nwctrail.com/2020/06/10/global-security-intelligence-and-analytics-solutions-market-insights-report-2020-2026-with-coronavirus-covid-19-effect-analysis-blue-coat-systems-ibm-juniper-networks-mcafee-symantec-cisco-h/\n",
      "2020-06-10T17:37:00.000+03:00\n",
      "Communication leaders to discuss Business revival post COVID-19\n",
      "https://www.exchange4media.com/pr-and-corporate-communication-news/communication-leaders-to-discuss-business-revival-post-covid-19-105261.html\n",
      "2020-06-10T17:32:00.000+03:00\n",
      "Forbes Nigeria Summit Will Feature Top Companies from the 1st Digital Accelerator Program for Nigeria\n",
      "https://naijabizcom.com/2020/06/10/forbes-nigeria-summit-will-feature-top-companies-from-the-1st-digital-accelerator-program-for-nigeria/\n",
      "2020-06-10T17:05:00.000+03:00\n",
      "Infotel Corp. U.S.A. Announces ‘Preparing Enterprise IT for the Next 50 Years of Mainframe’ Webinar in Conjunction with IBM Systems Magazine\n",
      "https://www.prweb.com/releases/infotel_corp_u_s_a_announces_preparing_enterprise_it_for_the_next_50_years_of_mainframe_webinar_in_conjunction_with_ibm_systems_magazine/prweb17161993.htm\n",
      "2020-06-10T17:00:00.000+03:00\n",
      "IBM quits facial recognition business, joins call for police reforms - LaSalle News Tribune\n",
      "https://www.newstrib.com/2020/06/10/ibm-quits-facial-recognition-business-joins-call-for-police-reforms/abp6wvf/\n",
      "2020-06-10T16:59:00.000+03:00\n",
      "IBM wins praise for halting sales of its facial recognition tech, but experts say it may have left itself a loophole\n",
      "https://www.businessinsider.in/tech/news/ibm-wins-praise-for-halting-sales-of-its-facial-recognition-tech-but-experts-say-it-may-have-left-itself-a-loophole/articleshow/76305903.cms\n",
      "2020-06-10T16:58:00.000+03:00\n",
      "IBM quits facial recognition business, joins call for police reforms\n",
      "https://www.theherald-news.com/2020/06/10/ibm-quits-facial-recognition-business-joins-call-for-police-reforms/abp6wvf/\n",
      "2020-06-10T16:49:00.000+03:00\n",
      "IBM Abandons Facial Recognition Products, Condemns Racially Biased Surveillance\n",
      "http://iowapublicradio.org/post/ibm-abandons-facial-recognition-products-condemns-racially-biased-surveillance\n",
      "2020-06-10T16:45:00.000+03:00\n",
      "Coronavirus: Tech layoffs emerge in Bay Area as economy battles to revive\n",
      "https://www.mercurynews.com/coronavirus-tech-layoffs-bay-area-economy-edd-ui-job-unemployment-lyft-lending-club-yelp-ibm\n",
      "2020-06-10T16:28:00.000+03:00\n",
      "Anaconda And IBM Watson Join Hands To Simplify Enterprise Adoption Of AI Open-Source Technologies\n",
      "https://opensourceforu.com/2020/06/anaconda-and-ibm-watson-join-hands-to-simplify-enterprise-adoption-of-ai-open-source-technologies/\n",
      "2020-06-10T16:16:00.000+03:00\n",
      "Programming language Go: Microsoft hands VS Code Go extension to Google's Go team\n",
      "https://www.zdnet.com/article/programming-language-go-microsoft-hands-vs-code-go-extension-to-googles-go-team/\n",
      "2020-06-10T16:02:00.000+03:00\n",
      "Infor wins another Dutch Food Manufacturer\n",
      "https://www.enterprisetimes.co.uk/2020/06/10/infor-wins-another-dutch-food-manufacturer/\n",
      "2020-06-10T16:01:00.000+03:00\n",
      "WWDC 2020: Apple, ARM, together in Macs at last, plus more tech news today\n",
      "https://www.androidauthority.com/tech-news-57-1127624/\n",
      "2020-06-10T15:59:00.000+03:00\n",
      "Got \"No space left on device\" when cloning 1TB disk to 1.2TB disk using dd – unix.stackexchange.com\n",
      "https://unix.stackexchange.com/questions/591952/got-no-space-left-on-device-when-cloning-1tb-disk-to-1-2tb-disk-using-dd\n",
      "2020-06-10T15:59:00.000+03:00\n",
      "IBM abandons development of facial recognition technology, joins call for police reform in US\n",
      "https://www.soyacincau.com/2020/06/10/ibm-abandons-development-of-facial-recognition-technology-joins-call-for-police-reform-in-us/\n",
      "2020-06-10T15:51:00.000+03:00\n",
      "Learn to become a cloud pro with these AWS courses for $60\n",
      "https://thelatestbreakingnews.com/learn-to-become-a-cloud-pro-with-these-aws-courses-for-60/\n",
      "2020-06-10T15:40:00.000+03:00\n",
      "NexTech’s InfernoAR Chosen as Virtual Events Platform Partner for Skybridge World Dubai\n",
      "https://www.globenewswire.com/news-release/2020/06/10/2046161/0/en/NexTech-s-InfernoAR-Chosen-as-Virtual-Events-Platform-Partner-for-Skybridge-World-Dubai.html\n",
      "2020-06-10T15:32:00.000+03:00\n",
      "Slack Technologies Gains an 800-Pound Ally Against Microsoft - Motley Fool\n",
      "https://www.fool.com/investing/2020/06/10/slack-technologies-gains-an-800-pound-ally-against.aspx\n",
      "2020-06-10T15:31:00.000+03:00\n",
      "IBM’s Withdrawal Won’t Mean the End of Facial Recognition\n",
      "https://followmehere.com/2020/06/10/ibms-withdrawal-wont-mean-the-end-of-facial-recognition/\n",
      "2020-06-10T15:17:00.000+03:00\n",
      "Global Customer Experience Management (CEM) Market 2020 with Coronavirus (COVID-19) Impact Analysis | likewise Industry is Booming Globaly with Top Players – IBM, Oracle, Adobe Systems, Nokia Networks, Avaya\n",
      "http://nwctrail.com/2020/06/10/global-customer-experience-management-cem-market-2020-with-coronavirus-covid-19-impact-analysis-likewise-industry-is-booming-globaly-with-top-players-ibm-oracle-adobe-systems-nokia-networks/\n",
      "2020-06-10T15:12:00.000+03:00\n",
      "Blockchain, we are ascending the Slope of Enlightenment, Matt Hooper, Live! From Tomorrow\n",
      "https://irishtechnews.ie/blockchain-we-are-ascending-the-slope-of-enlightenment-matt-hooper-live-from-tomorrow/\n",
      "2020-06-10T15:03:00.000+03:00\n",
      "Istio 1.5: Lin Sun and Neeraj Poddar Discuss istiod, Wasm, and Multi-Cluster Support\n",
      "https://www.infoq.com/news/2020/06/istio-1-5-sun-poddar/\n",
      "2020-06-10T15:00:00.000+03:00\n",
      "IBM divests from facial-recognition market\n",
      "https://www.computerweekly.com/news/252484451/IBM-divests-from-facial-recognition-market\n",
      "2020-06-10T14:30:00.000+03:00\n",
      "IBM Will No Longer Sell Facial Recognition Services\n",
      "https://techthelead.com/ibm-will-no-longer-sell-facial-recognition-services/\n",
      "2020-06-10T14:28:00.000+03:00\n",
      "Day traders have driven stock-market euphoria to an 18-year high, boosting the odds of a downturn in the next year to over 70%, Citi says\n",
      "https://www.onenewspage.com/n/Business/1zlsbu2pmw/Day-traders-have-driven-stock-market-euphoria-to.htm\n",
      "2020-06-10T14:10:00.000+03:00\n",
      "Dow's nearly 300-point fall led by losses for shares of Boeing, IBM\n",
      "http://www.marketwatch.com/story/dows-nearly-300-point-fall-led-by-losses-for-shares-of-boeing-ibm-2020-06-09\n",
      "2020-06-10T14:06:00.000+03:00\n",
      "Armonk-based IBM quits facial recognition, joins call for police reforms\n",
      "http://westchester.news12.com/story/42231115/armonkbased-ibm-quits-facial-recognition-joins-call-for-police-reforms\n",
      "2020-06-10T14:01:00.000+03:00\n",
      "IBM Cloud users demand further clarity over cause of global outage\n",
      "https://www.computerweekly.com/news/252484450/IBM-Cloud-users-demand-further-clarity-over-cause-of-global-outage\n",
      "2020-06-10T13:45:00.000+03:00\n",
      "IBM Quits Facial-Recognition Over Bias Claims\n",
      "https://www.cio.co.ke/ibm-quits-facial-recognition-over-bias-claims/\n",
      "2020-06-10T13:18:00.000+03:00\n",
      "Google Cloud, Synechron in pact to build centre of excellence\n",
      "https://www.livemint.com/industry/infotech/google-cloud-synechron-in-pact-to-build-centre-of-excellence-11591762241065.html\n",
      "2020-06-10T13:03:00.000+03:00\n",
      "IBM Cloud suffers major global outage\n",
      "https://www.itpro.co.uk/cloud/356002/ibm-cloud-suffers-major-outage\n",
      "2020-06-10T13:01:00.000+03:00\n",
      "IBM Cloud hit by multi-hour worldwide outage\n",
      "https://www.datacenterdynamics.com/en/news/ibm-cloud-hit-multi-hour-worldwide-outage/\n",
      "2020-06-10T13:00:00.000+03:00\n",
      "New era beckons for India’s medical devices industry\n",
      "https://indiaincgroup.com/new-era-beckons-for-indias-medical-devices-industry/\n",
      "2020-06-10T12:48:00.000+03:00\n"
     ]
    }
   ],
   "source": [
    "#Printing latest 100 article titles with urls and published dates--with count starting from 0.  \n",
    "\n",
    "###Webhose.io automatically provides data in latest order#### \n",
    "###Inspection of published dates will support this.   \n",
    "\n",
    "###Nonetheless, below are also 2 alternate methods to sort the data which confirms webhose.io's output.  \n",
    "###This listings are identical.  \n",
    "\n",
    "for feed in uniqueValue[:100]:   \n",
    "    print(feed['title'])\n",
    "    print(feed['url'])\n",
    "    print(feed['published'])"
   ]
  },
  {
   "cell_type": "code",
   "execution_count": 333,
   "metadata": {},
   "outputs": [],
   "source": [
    "#Alternte Method 1:: Converting to a pandas df to ensure listing of 100 latests newsfeeds above is accurate.  \n",
    "\n",
    "from pandas import DataFrame    \n",
    "\n",
    "df = DataFrame (uniqueValue,columns=['title', 'url', 'published'])"
   ]
  },
  {
   "cell_type": "code",
   "execution_count": 334,
   "metadata": {},
   "outputs": [
    {
     "name": "stdout",
     "output_type": "stream",
     "text": [
      "3095\n"
     ]
    }
   ],
   "source": [
    "print(len(df)) #ensuring df is the proper size "
   ]
  },
  {
   "cell_type": "code",
   "execution_count": 2,
   "metadata": {},
   "outputs": [
    {
     "ename": "NameError",
     "evalue": "name 'df' is not defined",
     "output_type": "error",
     "traceback": [
      "\u001b[0;31m---------------------------------------------------------------------------\u001b[0m",
      "\u001b[0;31mNameError\u001b[0m                                 Traceback (most recent call last)",
      "\u001b[0;32m<ipython-input-2-44e370b9fc7b>\u001b[0m in \u001b[0;36m<module>\u001b[0;34m\u001b[0m\n\u001b[0;32m----> 1\u001b[0;31m \u001b[0mdf2\u001b[0m \u001b[0;34m=\u001b[0m \u001b[0mdf\u001b[0m\u001b[0;34m.\u001b[0m\u001b[0mcopy\u001b[0m\u001b[0;34m(\u001b[0m\u001b[0;34m)\u001b[0m\u001b[0;34m\u001b[0m\u001b[0;34m\u001b[0m\u001b[0m\n\u001b[0m",
      "\u001b[0;31mNameError\u001b[0m: name 'df' is not defined"
     ]
    }
   ],
   "source": [
    "df2 = df.copy() "
   ]
  },
  {
   "cell_type": "code",
   "execution_count": 3,
   "metadata": {},
   "outputs": [
    {
     "ename": "NameError",
     "evalue": "name 'df' is not defined",
     "output_type": "error",
     "traceback": [
      "\u001b[0;31m---------------------------------------------------------------------------\u001b[0m",
      "\u001b[0;31mNameError\u001b[0m                                 Traceback (most recent call last)",
      "\u001b[0;32m<ipython-input-3-1d05038c302d>\u001b[0m in \u001b[0;36m<module>\u001b[0;34m\u001b[0m\n\u001b[1;32m      1\u001b[0m \u001b[0;31m#using sort_values function via published date to print latest 100 newsfeeds; titles/urls/published date\u001b[0m\u001b[0;34m\u001b[0m\u001b[0;34m\u001b[0m\u001b[0;34m\u001b[0m\u001b[0m\n\u001b[1;32m      2\u001b[0m \u001b[0;34m\u001b[0m\u001b[0m\n\u001b[0;32m----> 3\u001b[0;31m \u001b[0mdf2\u001b[0m\u001b[0;34m=\u001b[0m \u001b[0mdf\u001b[0m\u001b[0;34m.\u001b[0m\u001b[0msort_values\u001b[0m\u001b[0;34m(\u001b[0m\u001b[0mby\u001b[0m\u001b[0;34m=\u001b[0m\u001b[0;34m'published'\u001b[0m\u001b[0;34m,\u001b[0m \u001b[0mascending\u001b[0m\u001b[0;34m=\u001b[0m\u001b[0;32mFalse\u001b[0m\u001b[0;34m)\u001b[0m\u001b[0;34m[\u001b[0m\u001b[0;36m0\u001b[0m\u001b[0;34m:\u001b[0m\u001b[0;36m100\u001b[0m\u001b[0;34m]\u001b[0m\u001b[0;34m\u001b[0m\u001b[0;34m\u001b[0m\u001b[0m\n\u001b[0m",
      "\u001b[0;31mNameError\u001b[0m: name 'df' is not defined"
     ]
    }
   ],
   "source": [
    "#using sort_values function via published date to print latest 100 newsfeeds; titles/urls/published date\n",
    "\n",
    "df2= df.sort_values(by='published', ascending=False)[0:100]  "
   ]
  },
  {
   "cell_type": "code",
   "execution_count": 337,
   "metadata": {},
   "outputs": [
    {
     "data": {
      "text/html": [
       "<div>\n",
       "<style scoped>\n",
       "    .dataframe tbody tr th:only-of-type {\n",
       "        vertical-align: middle;\n",
       "    }\n",
       "\n",
       "    .dataframe tbody tr th {\n",
       "        vertical-align: top;\n",
       "    }\n",
       "\n",
       "    .dataframe thead th {\n",
       "        text-align: right;\n",
       "    }\n",
       "</style>\n",
       "<table border=\"1\" class=\"dataframe\">\n",
       "  <thead>\n",
       "    <tr style=\"text-align: right;\">\n",
       "      <th></th>\n",
       "      <th>title</th>\n",
       "      <th>url</th>\n",
       "      <th>published</th>\n",
       "    </tr>\n",
       "  </thead>\n",
       "  <tbody>\n",
       "    <tr>\n",
       "      <td>0</td>\n",
       "      <td>IBMQuitsFacialRecognition,JoinsCall forPoliceR...</td>\n",
       "      <td>http://missouri.statenews.net/news/265402030/i...</td>\n",
       "      <td>2020-06-11T05:05:00.000+03:00</td>\n",
       "    </tr>\n",
       "    <tr>\n",
       "      <td>1</td>\n",
       "      <td>Amazon puts police use of facial recognition t...</td>\n",
       "      <td>https://www.slashgear.com/amazon-puts-police-u...</td>\n",
       "      <td>2020-06-11T04:58:00.000+03:00</td>\n",
       "    </tr>\n",
       "    <tr>\n",
       "      <td>2</td>\n",
       "      <td>Amazon bans police use of its face recognition...</td>\n",
       "      <td>https://www.ksbw.com/article/amazon-bans-polic...</td>\n",
       "      <td>2020-06-11T04:15:00.000+03:00</td>\n",
       "    </tr>\n",
       "    <tr>\n",
       "      <td>3</td>\n",
       "      <td>Server and storage sales plummet in 2020</td>\n",
       "      <td>https://www.techradar.com/news/server-and-stor...</td>\n",
       "      <td>2020-06-11T04:01:00.000+03:00</td>\n",
       "    </tr>\n",
       "    <tr>\n",
       "      <td>4</td>\n",
       "      <td>Fast Path Indexer (PFX) initialization may fai...</td>\n",
       "      <td>https://communities.bmc.com/docs/DOC-129465</td>\n",
       "      <td>2020-06-11T03:08:00.000+03:00</td>\n",
       "    </tr>\n",
       "    <tr>\n",
       "      <td>...</td>\n",
       "      <td>...</td>\n",
       "      <td>...</td>\n",
       "      <td>...</td>\n",
       "    </tr>\n",
       "    <tr>\n",
       "      <td>95</td>\n",
       "      <td>IBM Quits Facial-Recognition Over Bias Claims</td>\n",
       "      <td>https://www.cio.co.ke/ibm-quits-facial-recogni...</td>\n",
       "      <td>2020-06-10T13:18:00.000+03:00</td>\n",
       "    </tr>\n",
       "    <tr>\n",
       "      <td>96</td>\n",
       "      <td>Google Cloud, Synechron in pact to build centr...</td>\n",
       "      <td>https://www.livemint.com/industry/infotech/goo...</td>\n",
       "      <td>2020-06-10T13:03:00.000+03:00</td>\n",
       "    </tr>\n",
       "    <tr>\n",
       "      <td>97</td>\n",
       "      <td>IBM Cloud suffers major global outage</td>\n",
       "      <td>https://www.itpro.co.uk/cloud/356002/ibm-cloud...</td>\n",
       "      <td>2020-06-10T13:01:00.000+03:00</td>\n",
       "    </tr>\n",
       "    <tr>\n",
       "      <td>98</td>\n",
       "      <td>IBM Cloud hit by multi-hour worldwide outage</td>\n",
       "      <td>https://www.datacenterdynamics.com/en/news/ibm...</td>\n",
       "      <td>2020-06-10T13:00:00.000+03:00</td>\n",
       "    </tr>\n",
       "    <tr>\n",
       "      <td>99</td>\n",
       "      <td>New era beckons for India’s medical devices in...</td>\n",
       "      <td>https://indiaincgroup.com/new-era-beckons-for-...</td>\n",
       "      <td>2020-06-10T12:48:00.000+03:00</td>\n",
       "    </tr>\n",
       "  </tbody>\n",
       "</table>\n",
       "<p>100 rows × 3 columns</p>\n",
       "</div>"
      ],
      "text/plain": [
       "                                                title  \\\n",
       "0   IBMQuitsFacialRecognition,JoinsCall forPoliceR...   \n",
       "1   Amazon puts police use of facial recognition t...   \n",
       "2   Amazon bans police use of its face recognition...   \n",
       "3            Server and storage sales plummet in 2020   \n",
       "4   Fast Path Indexer (PFX) initialization may fai...   \n",
       "..                                                ...   \n",
       "95      IBM Quits Facial-Recognition Over Bias Claims   \n",
       "96  Google Cloud, Synechron in pact to build centr...   \n",
       "97              IBM Cloud suffers major global outage   \n",
       "98       IBM Cloud hit by multi-hour worldwide outage   \n",
       "99  New era beckons for India’s medical devices in...   \n",
       "\n",
       "                                                  url  \\\n",
       "0   http://missouri.statenews.net/news/265402030/i...   \n",
       "1   https://www.slashgear.com/amazon-puts-police-u...   \n",
       "2   https://www.ksbw.com/article/amazon-bans-polic...   \n",
       "3   https://www.techradar.com/news/server-and-stor...   \n",
       "4         https://communities.bmc.com/docs/DOC-129465   \n",
       "..                                                ...   \n",
       "95  https://www.cio.co.ke/ibm-quits-facial-recogni...   \n",
       "96  https://www.livemint.com/industry/infotech/goo...   \n",
       "97  https://www.itpro.co.uk/cloud/356002/ibm-cloud...   \n",
       "98  https://www.datacenterdynamics.com/en/news/ibm...   \n",
       "99  https://indiaincgroup.com/new-era-beckons-for-...   \n",
       "\n",
       "                        published  \n",
       "0   2020-06-11T05:05:00.000+03:00  \n",
       "1   2020-06-11T04:58:00.000+03:00  \n",
       "2   2020-06-11T04:15:00.000+03:00  \n",
       "3   2020-06-11T04:01:00.000+03:00  \n",
       "4   2020-06-11T03:08:00.000+03:00  \n",
       "..                            ...  \n",
       "95  2020-06-10T13:18:00.000+03:00  \n",
       "96  2020-06-10T13:03:00.000+03:00  \n",
       "97  2020-06-10T13:01:00.000+03:00  \n",
       "98  2020-06-10T13:00:00.000+03:00  \n",
       "99  2020-06-10T12:48:00.000+03:00  \n",
       "\n",
       "[100 rows x 3 columns]"
      ]
     },
     "execution_count": 337,
     "metadata": {},
     "output_type": "execute_result"
    }
   ],
   "source": [
    "df2 #the output for latest 100 articles titles matches the output in [276] :  confirming webhose.io sorting  "
   ]
  },
  {
   "cell_type": "code",
   "execution_count": 338,
   "metadata": {},
   "outputs": [],
   "source": [
    "#Alternate Method 2::  to ensure that listing of 100 most recent newsfeeds data above is correct.\n",
    "\n",
    "df3 = df.copy()   "
   ]
  },
  {
   "cell_type": "code",
   "execution_count": 339,
   "metadata": {},
   "outputs": [],
   "source": [
    "import pandas as pd \n",
    "\n",
    "df3['published'] = pd.to_datetime(df3['published'])\n",
    "\n",
    "res = df3.sort_values('published', ascending=False)[:100]   "
   ]
  },
  {
   "cell_type": "code",
   "execution_count": 340,
   "metadata": {},
   "outputs": [
    {
     "data": {
      "text/html": [
       "<div>\n",
       "<style scoped>\n",
       "    .dataframe tbody tr th:only-of-type {\n",
       "        vertical-align: middle;\n",
       "    }\n",
       "\n",
       "    .dataframe tbody tr th {\n",
       "        vertical-align: top;\n",
       "    }\n",
       "\n",
       "    .dataframe thead th {\n",
       "        text-align: right;\n",
       "    }\n",
       "</style>\n",
       "<table border=\"1\" class=\"dataframe\">\n",
       "  <thead>\n",
       "    <tr style=\"text-align: right;\">\n",
       "      <th></th>\n",
       "      <th>title</th>\n",
       "      <th>url</th>\n",
       "      <th>published</th>\n",
       "    </tr>\n",
       "  </thead>\n",
       "  <tbody>\n",
       "    <tr>\n",
       "      <td>0</td>\n",
       "      <td>IBMQuitsFacialRecognition,JoinsCall forPoliceR...</td>\n",
       "      <td>http://missouri.statenews.net/news/265402030/i...</td>\n",
       "      <td>2020-06-11 05:05:00+03:00</td>\n",
       "    </tr>\n",
       "    <tr>\n",
       "      <td>1</td>\n",
       "      <td>Amazon puts police use of facial recognition t...</td>\n",
       "      <td>https://www.slashgear.com/amazon-puts-police-u...</td>\n",
       "      <td>2020-06-11 04:58:00+03:00</td>\n",
       "    </tr>\n",
       "    <tr>\n",
       "      <td>2</td>\n",
       "      <td>Amazon bans police use of its face recognition...</td>\n",
       "      <td>https://www.ksbw.com/article/amazon-bans-polic...</td>\n",
       "      <td>2020-06-11 04:15:00+03:00</td>\n",
       "    </tr>\n",
       "    <tr>\n",
       "      <td>3</td>\n",
       "      <td>Server and storage sales plummet in 2020</td>\n",
       "      <td>https://www.techradar.com/news/server-and-stor...</td>\n",
       "      <td>2020-06-11 04:01:00+03:00</td>\n",
       "    </tr>\n",
       "    <tr>\n",
       "      <td>4</td>\n",
       "      <td>Fast Path Indexer (PFX) initialization may fai...</td>\n",
       "      <td>https://communities.bmc.com/docs/DOC-129465</td>\n",
       "      <td>2020-06-11 03:08:00+03:00</td>\n",
       "    </tr>\n",
       "    <tr>\n",
       "      <td>...</td>\n",
       "      <td>...</td>\n",
       "      <td>...</td>\n",
       "      <td>...</td>\n",
       "    </tr>\n",
       "    <tr>\n",
       "      <td>95</td>\n",
       "      <td>IBM Quits Facial-Recognition Over Bias Claims</td>\n",
       "      <td>https://www.cio.co.ke/ibm-quits-facial-recogni...</td>\n",
       "      <td>2020-06-10 13:18:00+03:00</td>\n",
       "    </tr>\n",
       "    <tr>\n",
       "      <td>96</td>\n",
       "      <td>Google Cloud, Synechron in pact to build centr...</td>\n",
       "      <td>https://www.livemint.com/industry/infotech/goo...</td>\n",
       "      <td>2020-06-10 13:03:00+03:00</td>\n",
       "    </tr>\n",
       "    <tr>\n",
       "      <td>97</td>\n",
       "      <td>IBM Cloud suffers major global outage</td>\n",
       "      <td>https://www.itpro.co.uk/cloud/356002/ibm-cloud...</td>\n",
       "      <td>2020-06-10 13:01:00+03:00</td>\n",
       "    </tr>\n",
       "    <tr>\n",
       "      <td>98</td>\n",
       "      <td>IBM Cloud hit by multi-hour worldwide outage</td>\n",
       "      <td>https://www.datacenterdynamics.com/en/news/ibm...</td>\n",
       "      <td>2020-06-10 13:00:00+03:00</td>\n",
       "    </tr>\n",
       "    <tr>\n",
       "      <td>99</td>\n",
       "      <td>New era beckons for India’s medical devices in...</td>\n",
       "      <td>https://indiaincgroup.com/new-era-beckons-for-...</td>\n",
       "      <td>2020-06-10 12:48:00+03:00</td>\n",
       "    </tr>\n",
       "  </tbody>\n",
       "</table>\n",
       "<p>100 rows × 3 columns</p>\n",
       "</div>"
      ],
      "text/plain": [
       "                                                title  \\\n",
       "0   IBMQuitsFacialRecognition,JoinsCall forPoliceR...   \n",
       "1   Amazon puts police use of facial recognition t...   \n",
       "2   Amazon bans police use of its face recognition...   \n",
       "3            Server and storage sales plummet in 2020   \n",
       "4   Fast Path Indexer (PFX) initialization may fai...   \n",
       "..                                                ...   \n",
       "95      IBM Quits Facial-Recognition Over Bias Claims   \n",
       "96  Google Cloud, Synechron in pact to build centr...   \n",
       "97              IBM Cloud suffers major global outage   \n",
       "98       IBM Cloud hit by multi-hour worldwide outage   \n",
       "99  New era beckons for India’s medical devices in...   \n",
       "\n",
       "                                                  url  \\\n",
       "0   http://missouri.statenews.net/news/265402030/i...   \n",
       "1   https://www.slashgear.com/amazon-puts-police-u...   \n",
       "2   https://www.ksbw.com/article/amazon-bans-polic...   \n",
       "3   https://www.techradar.com/news/server-and-stor...   \n",
       "4         https://communities.bmc.com/docs/DOC-129465   \n",
       "..                                                ...   \n",
       "95  https://www.cio.co.ke/ibm-quits-facial-recogni...   \n",
       "96  https://www.livemint.com/industry/infotech/goo...   \n",
       "97  https://www.itpro.co.uk/cloud/356002/ibm-cloud...   \n",
       "98  https://www.datacenterdynamics.com/en/news/ibm...   \n",
       "99  https://indiaincgroup.com/new-era-beckons-for-...   \n",
       "\n",
       "                   published  \n",
       "0  2020-06-11 05:05:00+03:00  \n",
       "1  2020-06-11 04:58:00+03:00  \n",
       "2  2020-06-11 04:15:00+03:00  \n",
       "3  2020-06-11 04:01:00+03:00  \n",
       "4  2020-06-11 03:08:00+03:00  \n",
       "..                       ...  \n",
       "95 2020-06-10 13:18:00+03:00  \n",
       "96 2020-06-10 13:03:00+03:00  \n",
       "97 2020-06-10 13:01:00+03:00  \n",
       "98 2020-06-10 13:00:00+03:00  \n",
       "99 2020-06-10 12:48:00+03:00  \n",
       "\n",
       "[100 rows x 3 columns]"
      ]
     },
     "execution_count": 340,
     "metadata": {},
     "output_type": "execute_result"
    }
   ],
   "source": [
    "#Output of 100 most recent newsfeeds--titles/urls/published dates.  Inspection of the data shows all three listings \n",
    "#are the same.  All 3 methods provide identical output for the 100 latest newsfeeds.  \n",
    "\n",
    "res  "
   ]
  },
  {
   "cell_type": "code",
   "execution_count": 1,
   "metadata": {},
   "outputs": [
    {
     "ename": "NameError",
     "evalue": "name 'uniqueValue' is not defined",
     "output_type": "error",
     "traceback": [
      "\u001b[0;31m---------------------------------------------------------------------------\u001b[0m",
      "\u001b[0;31mNameError\u001b[0m                                 Traceback (most recent call last)",
      "\u001b[0;32m<ipython-input-1-be9f828dd826>\u001b[0m in \u001b[0;36m<module>\u001b[0;34m\u001b[0m\n\u001b[1;32m      1\u001b[0m \u001b[0;32mfrom\u001b[0m \u001b[0mdatetime\u001b[0m \u001b[0;32mimport\u001b[0m \u001b[0mdatetime\u001b[0m\u001b[0;34m\u001b[0m\u001b[0;34m\u001b[0m\u001b[0m\n\u001b[1;32m      2\u001b[0m \u001b[0;34m\u001b[0m\u001b[0m\n\u001b[0;32m----> 3\u001b[0;31m \u001b[0muniqueValue\u001b[0m\u001b[0;34m.\u001b[0m\u001b[0msort\u001b[0m\u001b[0;34m(\u001b[0m\u001b[0mkey\u001b[0m \u001b[0;34m=\u001b[0m \u001b[0;32mlambda\u001b[0m \u001b[0mdate\u001b[0m\u001b[0;34m:\u001b[0m \u001b[0mdatetime\u001b[0m\u001b[0;34m.\u001b[0m\u001b[0mstrptime\u001b[0m\u001b[0;34m(\u001b[0m\u001b[0mdate\u001b[0m\u001b[0;34m,\u001b[0m \u001b[0;34m'%d %b %Y'\u001b[0m\u001b[0;34m)\u001b[0m\u001b[0;34m)\u001b[0m\u001b[0;34m\u001b[0m\u001b[0;34m\u001b[0m\u001b[0m\n\u001b[0m\u001b[1;32m      4\u001b[0m \u001b[0;34m\u001b[0m\u001b[0m\n\u001b[1;32m      5\u001b[0m \u001b[0mprintDates\u001b[0m\u001b[0;34m(\u001b[0m\u001b[0mdates\u001b[0m\u001b[0;34m)\u001b[0m\u001b[0;34m\u001b[0m\u001b[0;34m\u001b[0m\u001b[0m\n",
      "\u001b[0;31mNameError\u001b[0m: name 'uniqueValue' is not defined"
     ]
    }
   ],
   "source": [
    "from datetime import datetime \n",
    "\n",
    "uv= uniqueValue.sort(key = lambda date: datetime.strptime(date, '%d %b %Y'), ascending=False) \n",
    "       "
   ]
  },
  {
   "cell_type": "code",
   "execution_count": 323,
   "metadata": {},
   "outputs": [
    {
     "name": "stdout",
     "output_type": "stream",
     "text": [
      "Requirement already satisfied: print-schema in /Users/batman/opt/anaconda3/lib/python3.7/site-packages (1.1.1)\n",
      "Requirement already satisfied: requests in /Users/batman/opt/anaconda3/lib/python3.7/site-packages (from print-schema) (2.22.0)\n",
      "Requirement already satisfied: certifi>=2017.4.17 in /Users/batman/opt/anaconda3/lib/python3.7/site-packages (from requests->print-schema) (2019.9.11)\n",
      "Requirement already satisfied: urllib3!=1.25.0,!=1.25.1,<1.26,>=1.21.1 in /Users/batman/opt/anaconda3/lib/python3.7/site-packages (from requests->print-schema) (1.24.2)\n",
      "Requirement already satisfied: idna<2.9,>=2.5 in /Users/batman/opt/anaconda3/lib/python3.7/site-packages (from requests->print-schema) (2.8)\n",
      "Requirement already satisfied: chardet<3.1.0,>=3.0.2 in /Users/batman/opt/anaconda3/lib/python3.7/site-packages (from requests->print-schema) (3.0.4)\n",
      "Note: you may need to restart the kernel to use updated packages.\n"
     ]
    }
   ],
   "source": [
    "pip install print-schema #installing print-schema library "
   ]
  },
  {
   "cell_type": "code",
   "execution_count": 324,
   "metadata": {},
   "outputs": [
    {
     "name": "stdout",
     "output_type": "stream",
     "text": [
      "|-  list \t - list [3095] <class 'dict'>\n",
      "   |- thread\t - <class 'dict'>\n",
      "      |- uuid\t - <class 'str'>\n",
      "      |- url\t - <class 'str'>\n",
      "      |- site_full\t - <class 'str'>\n",
      "      |- site\t - <class 'str'>\n",
      "      |- site_section\t - <class 'str'>\n",
      "      |- site_categories\t - list [1] <class 'str'>\n",
      "      |- section_title\t - <class 'str'>\n",
      "      |- title\t - <class 'str'>\n",
      "      |- title_full\t - <class 'str'>\n",
      "      |- published\t - <class 'str'>\n",
      "      |- replies_count\t - <class 'int'>\n",
      "      |- participants_count\t - <class 'int'>\n",
      "      |- site_type\t - <class 'str'>\n",
      "      |- country\t - <class 'str'>\n",
      "      |- spam_score\t - <class 'float'>\n",
      "      |- main_image\t - <class 'str'>\n",
      "      |- performance_score\t - <class 'int'>\n",
      "Not supported\n",
      "      |- social\t - <class 'dict'>\n",
      "         |- facebook\t - <class 'dict'>\n",
      "            |- likes\t - <class 'int'>\n",
      "            |- comments\t - <class 'int'>\n",
      "            |- shares\t - <class 'int'>\n",
      "         |- gplus\t - <class 'dict'>\n",
      "            |- shares\t - <class 'int'>\n",
      "         |- pinterest\t - <class 'dict'>\n",
      "            |- shares\t - <class 'int'>\n",
      "         |- linkedin\t - <class 'dict'>\n",
      "            |- shares\t - <class 'int'>\n",
      "         |- stumbledupon\t - <class 'dict'>\n",
      "            |- shares\t - <class 'int'>\n",
      "         |- vk\t - <class 'dict'>\n",
      "            |- shares\t - <class 'int'>\n",
      "   |- uuid\t - <class 'str'>\n",
      "   |- url\t - <class 'str'>\n",
      "   |- ord_in_thread\t - <class 'int'>\n",
      "Not supported\n",
      "   |- author\t - <class 'str'>\n",
      "   |- published\t - <class 'str'>\n",
      "   |- title\t - <class 'str'>\n",
      "   |- text\t - <class 'str'>\n",
      "   |- highlightText\t - <class 'str'>\n",
      "   |- highlightTitle\t - <class 'str'>\n",
      "   |- highlightThreadTitle\t - <class 'str'>\n",
      "   |- language\t - <class 'str'>\n",
      "   |- external_links\t - list [0] <empty list>\n",
      "   |- external_images\t - list [0] <empty list>\n",
      "   |- entities\t - <class 'dict'>\n",
      "      |- persons\t - list [2] <class 'dict'>\n",
      "         |- name\t - <class 'str'>\n",
      "         |- sentiment\t - <class 'str'>\n",
      "      |- organizations\t - list [1] <class 'dict'>\n",
      "         |- name\t - <class 'str'>\n",
      "         |- sentiment\t - <class 'str'>\n",
      "      |- locations\t - list [1] <class 'dict'>\n",
      "         |- name\t - <class 'str'>\n",
      "         |- sentiment\t - <class 'str'>\n",
      "Not supported\n",
      "   |- crawled\t - <class 'str'>\n",
      "   |- updated\t - <class 'str'>\n"
     ]
    }
   ],
   "source": [
    "#printing schema for the json object \n",
    "from print_schema import print_schema  \n",
    "my_dict = uniqueValue\n",
    "print_schema(my_dict, indent=3, dense=False)"
   ]
  },
  {
   "cell_type": "code",
   "execution_count": 287,
   "metadata": {},
   "outputs": [],
   "source": [
    "#End of Assignment 2"
   ]
  }
 ],
 "metadata": {
  "kernelspec": {
   "display_name": "Python 3",
   "language": "python",
   "name": "python3"
  },
  "language_info": {
   "codemirror_mode": {
    "name": "ipython",
    "version": 3
   },
   "file_extension": ".py",
   "mimetype": "text/x-python",
   "name": "python",
   "nbconvert_exporter": "python",
   "pygments_lexer": "ipython3",
   "version": "3.7.3"
  }
 },
 "nbformat": 4,
 "nbformat_minor": 2
}
