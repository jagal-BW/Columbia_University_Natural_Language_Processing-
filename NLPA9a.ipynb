{
 "cells": [
  {
   "cell_type": "code",
   "execution_count": 1,
   "metadata": {},
   "outputs": [],
   "source": [
    "# Jason Galvan"
   ]
  },
  {
   "cell_type": "code",
   "execution_count": 2,
   "metadata": {},
   "outputs": [
    {
     "data": {
      "text/plain": [
       "'/Users/batman/Downloads'"
      ]
     },
     "execution_count": 2,
     "metadata": {},
     "output_type": "execute_result"
    }
   ],
   "source": [
    "pwd"
   ]
  },
  {
   "cell_type": "code",
   "execution_count": 3,
   "metadata": {},
   "outputs": [],
   "source": [
    "import pandas as pd \n",
    "import gensim, operator\n",
    "from scipy import spatial\n",
    "import numpy as np\n",
    "from gensim.models import KeyedVectors\n",
    "from operator import itemgetter, attrgetter"
   ]
  },
  {
   "cell_type": "code",
   "execution_count": 4,
   "metadata": {},
   "outputs": [],
   "source": [
    "model_path = '/Users/batman/Downloads/'"
   ]
  },
  {
   "cell_type": "code",
   "execution_count": 5,
   "metadata": {},
   "outputs": [],
   "source": [
    "#LOADING WORD VECTOR MODEL"
   ]
  },
  {
   "cell_type": "code",
   "execution_count": 6,
   "metadata": {},
   "outputs": [
    {
     "name": "stdout",
     "output_type": "stream",
     "text": [
      "Loading Word2Vec model...\n",
      "Finished loading Word2Vec model...\n"
     ]
    }
   ],
   "source": [
    "def load_wordvec_model(modelName, modelFile, flagBin):\n",
    "    print('Loading ' + modelName + ' model...')\n",
    "    model = KeyedVectors.load_word2vec_format(model_path + modelFile, binary=flagBin)\n",
    "    print('Finished loading ' + modelName + ' model...')\n",
    "    return model\n",
    "\n",
    "model_word2vec = load_wordvec_model('Word2Vec', 'GoogleNews-vectors-negative300.bin.gz', True)\n",
    "#model_word2vec = load_wordvec_model('Word2Vec', 'webhose_skipgram_300.bin', True)"
   ]
  },
  {
   "cell_type": "code",
   "execution_count": 34,
   "metadata": {},
   "outputs": [],
   "source": [
    "# BUILDING MY OWN TAXONOMY BASED ON LDA and MANUAL DATA EXPLORATION"
   ]
  },
  {
   "cell_type": "code",
   "execution_count": 35,
   "metadata": {},
   "outputs": [],
   "source": [
    "topic_taxonomy = {\n",
    "    \"Business Finance\":\n",
    "    {\n",
    "        \"Revenue\":  \"millions earnings income receipts \",\n",
    "        \"Profits\":  \"gains dividends interest\",\n",
    "        \"Management\": \"global markeplace product employee \"\n",
    "    },\n",
    "    \"Data Protection\":\n",
    "    {\n",
    "\n",
    "        \"Network Security\": \"unauthorized access intrusion misuse denial\",\n",
    "        \"Cloud Security\":  \"data applications services infrastructure\",\n",
    "        \"Backup and Recovery\":  \"customer duplicate files folders cloud\"\n",
    "    },\n",
    "    \"Stock Portfolio\":\n",
    "    {\n",
    "        \"Shares\":    \"company quarter ratings news\",\n",
    "        \"Dividends\": \"average research target report\",\n",
    "        \"Price\": \"purchase ratio valued earnings\"\n",
    "    },\n",
    "    \"Facial Recognition Technology\":\n",
    "    {\n",
    "        \"Tech Companies\":  \"Amazon Microsoft Apple Google AWS\",\n",
    "        \"Law Enforcement\": \"digital identification criminal software solution bias\",\n",
    "        \"Tech Bias\": \"race gender ethnicity reliability map features prejudice population demographics\"\n",
    "    },\n",
    "   \n",
    "    \"Cloud Services\":\n",
    "    {\n",
    "        \"Aritifical Intelligence\": \"visual perception human intelligence application new\",\n",
    "        \"Storage\": \"technology database data backup provider enterprise solution electronic capture\",\n",
    "        \"Computing\":  \"center market customer data hardware software license\"\n",
    "    },\n",
    "    \"Artificial Intelligence Bias\":\n",
    "    {\n",
    "        \"Design\": \"development global software personal mitigating\",\n",
    "        \"Machine Learning\": \"algorithm identity bad data type response introduction\",\n",
    "        \"Biometrics\": \"characteristics human identification computer science identify measurements\",\n",
    "        \"Covid-19\": \"virus global outbreak pandemic containment NYC detection\",\n",
    "        \n",
    "    }\n",
    "}"
   ]
  },
  {
   "cell_type": "code",
   "execution_count": 36,
   "metadata": {},
   "outputs": [],
   "source": [
    "def vec_similarity(input1, input2, vectors):\n",
    "    term_vectors = [np.zeros(300), np.zeros(300)]\n",
    "    terms = [input1, input2]\n",
    "        \n",
    "    for index, term in enumerate(terms):\n",
    "        for i, t in enumerate(term.split(' ')):\n",
    "            try:\n",
    "                term_vectors[index] += vectors[t]\n",
    "            except:\n",
    "                term_vectors[index] += 0\n",
    "        \n",
    "    result = (1 - spatial.distance.cosine(term_vectors[0], term_vectors[1]))\n",
    "    if result is 'nan':\n",
    "        result = 0\n",
    "        \n",
    "    return result"
   ]
  },
  {
   "cell_type": "code",
   "execution_count": 37,
   "metadata": {},
   "outputs": [],
   "source": [
    "# Function checks whether the input words are present in the vocabulary for the model\n",
    "def vocab_check(vectors, words):\n",
    "    \n",
    "    output = list()\n",
    "    for word in words:\n",
    "        if word in vectors.vocab:\n",
    "            output.append(word.strip())\n",
    "            \n",
    "    return output"
   ]
  },
  {
   "cell_type": "code",
   "execution_count": 38,
   "metadata": {},
   "outputs": [],
   "source": [
    "# Function calculates similarity between two strings using a particular word vector model\n",
    "def calc_similarity(input1, input2, vectors):\n",
    "    s1words = set(vocab_check(vectors, input1.split()))\n",
    "    s2words = set(vocab_check(vectors, input2.split()))\n",
    "    #if len(s1words) < 1 | len(s2words) < 1:\n",
    "    #return 0\n",
    "    \n",
    "    try:\n",
    "        \n",
    "        output = vectors.n_similarity(s1words, s2words)\n",
    "    \n",
    "    except:\n",
    "        \n",
    "        output = 0\n",
    "        \n",
    "    return output"
   ]
  },
  {
   "cell_type": "code",
   "execution_count": 39,
   "metadata": {},
   "outputs": [],
   "source": [
    "#IMPORTING WEBHOSE DATASET FOR ANALYSIS"
   ]
  },
  {
   "cell_type": "code",
   "execution_count": 40,
   "metadata": {},
   "outputs": [],
   "source": [
    "import json"
   ]
  },
  {
   "cell_type": "code",
   "execution_count": 41,
   "metadata": {},
   "outputs": [
    {
     "name": "stdout",
     "output_type": "stream",
     "text": [
      "3779\n"
     ]
    }
   ],
   "source": [
    "json_data=open('/Users/batman/Downloads/webhose_IBM.json').readlines()\n",
    "newsfeeds_read = []\n",
    "for line in json_data:\n",
    "    newsfeeds_read.append(json.loads(line))\n",
    "print(len(newsfeeds_read))"
   ]
  },
  {
   "cell_type": "code",
   "execution_count": 42,
   "metadata": {},
   "outputs": [],
   "source": [
    "# Obtaining all Titles --isolating from remaining data\n",
    "total_list = []\n",
    "\n",
    "for feed in newsfeeds_read:\n",
    "    total_list.append(feed['title'])"
   ]
  },
  {
   "cell_type": "code",
   "execution_count": 43,
   "metadata": {},
   "outputs": [],
   "source": [
    "# Obtaining only Unique Titles amongst total listing \n",
    "input1 = []\n",
    "\n",
    "for line in total_list:\n",
    "    if line not in input1:\n",
    "        input1.append(line)"
   ]
  },
  {
   "cell_type": "code",
   "execution_count": 44,
   "metadata": {},
   "outputs": [
    {
     "data": {
      "text/plain": [
       "2903"
      ]
     },
     "execution_count": 44,
     "metadata": {},
     "output_type": "execute_result"
    }
   ],
   "source": [
    "len(input1)"
   ]
  },
  {
   "cell_type": "code",
   "execution_count": 45,
   "metadata": {},
   "outputs": [],
   "source": [
    " #function takes an input string, runs similarity for each item in topic_taxonomy, sorts and returns top result\n",
    "def classify_topics(input, vectors):\n",
    "    feed_score = dict()\n",
    "    for key, value in topic_taxonomy.items():\n",
    "        max_value_score = dict()\n",
    "        for label, keywords in value.items():\n",
    "            max_value_score[label] = 0\n",
    "            topic = (key + ' ' + keywords).strip()\n",
    "            max_value_score[label] += float(calc_similarity(input, topic, vectors))\n",
    "            \n",
    "        sorted_max_score = sorted(max_value_score.items(), key=operator.itemgetter(1), reverse=True)[0]\n",
    "        feed_score[sorted_max_score[0]] = sorted_max_score[1]\n",
    "    return sorted(feed_score.items(), key=operator.itemgetter(1), reverse=True)[:1]"
   ]
  },
  {
   "cell_type": "code",
   "execution_count": 46,
   "metadata": {},
   "outputs": [],
   "source": [
    "#USING FOR LOOP TO CALL CLASSIFY_TOPICS FUNCTION AND RETURN RESULTS IN 3 STRINGS--ALLOWING EASE OF MANIPULATION"
   ]
  },
  {
   "cell_type": "code",
   "execution_count": 47,
   "metadata": {},
   "outputs": [],
   "source": [
    "score2 = []\n",
    "topic2 = []\n",
    "title2= []\n",
    "for i in range(len(input1)) :   \n",
    "    input3=i\n",
    "\n",
    "    outputFIN = classify_topics(input1[i], model_word2vec)\n",
    "    topic2.append(outputFIN[0][0])\n",
    "    score2.append(outputFIN[0][1])\n",
    "    title2.append(input1[i])"
   ]
  },
  {
   "cell_type": "code",
   "execution_count": 48,
   "metadata": {},
   "outputs": [
    {
     "data": {
      "text/plain": [
       "2903"
      ]
     },
     "execution_count": 48,
     "metadata": {},
     "output_type": "execute_result"
    }
   ],
   "source": [
    "len(topic2)"
   ]
  },
  {
   "cell_type": "code",
   "execution_count": 49,
   "metadata": {},
   "outputs": [
    {
     "data": {
      "text/plain": [
       "2903"
      ]
     },
     "execution_count": 49,
     "metadata": {},
     "output_type": "execute_result"
    }
   ],
   "source": [
    "len(score2)"
   ]
  },
  {
   "cell_type": "code",
   "execution_count": 50,
   "metadata": {},
   "outputs": [
    {
     "data": {
      "text/plain": [
       "2903"
      ]
     },
     "execution_count": 50,
     "metadata": {},
     "output_type": "execute_result"
    }
   ],
   "source": [
    "len(title2)"
   ]
  },
  {
   "cell_type": "code",
   "execution_count": 51,
   "metadata": {},
   "outputs": [],
   "source": [
    "#DF BRINGING 3 INDEPENDENT STRINGS TOGETHER "
   ]
  },
  {
   "cell_type": "code",
   "execution_count": 52,
   "metadata": {},
   "outputs": [],
   "source": [
    "dfS = pd.DataFrame({'title': title2,'score': score2,'topic':topic2})"
   ]
  },
  {
   "cell_type": "code",
   "execution_count": 53,
   "metadata": {},
   "outputs": [
    {
     "data": {
      "text/plain": [
       "pandas.core.indexes.base.Index"
      ]
     },
     "execution_count": 53,
     "metadata": {},
     "output_type": "execute_result"
    }
   ],
   "source": [
    "type(dfS.columns)"
   ]
  },
  {
   "cell_type": "code",
   "execution_count": 54,
   "metadata": {},
   "outputs": [],
   "source": [
    "dfFINAL = dfS.sort_values(['topic','score'],ascending=False).groupby('topic').head(10)"
   ]
  },
  {
   "cell_type": "code",
   "execution_count": 55,
   "metadata": {},
   "outputs": [],
   "source": [
    "#DISPLAYING TOP 10 ARTICLES FOR EACH TOPIC IN TAXONOMY"
   ]
  },
  {
   "cell_type": "code",
   "execution_count": 61,
   "metadata": {},
   "outputs": [
    {
     "data": {
      "text/html": [
       "<div>\n",
       "<style scoped>\n",
       "    .dataframe tbody tr th:only-of-type {\n",
       "        vertical-align: middle;\n",
       "    }\n",
       "\n",
       "    .dataframe tbody tr th {\n",
       "        vertical-align: top;\n",
       "    }\n",
       "\n",
       "    .dataframe thead th {\n",
       "        text-align: right;\n",
       "    }\n",
       "</style>\n",
       "<table border=\"1\" class=\"dataframe\">\n",
       "  <thead>\n",
       "    <tr style=\"text-align: right;\">\n",
       "      <th></th>\n",
       "      <th>title</th>\n",
       "      <th>score</th>\n",
       "      <th>topic</th>\n",
       "    </tr>\n",
       "  </thead>\n",
       "  <tbody>\n",
       "    <tr>\n",
       "      <th>258</th>\n",
       "      <td>Cloud NLP Market Growth Analysis to 2024: Appl...</td>\n",
       "      <td>0.828172</td>\n",
       "      <td>Tech Companies</td>\n",
       "    </tr>\n",
       "    <tr>\n",
       "      <th>38</th>\n",
       "      <td>AI in Fintech Market Production &amp; Demand by 20...</td>\n",
       "      <td>0.764505</td>\n",
       "      <td>Tech Companies</td>\n",
       "    </tr>\n",
       "    <tr>\n",
       "      <th>1233</th>\n",
       "      <td>Global Analytics as a Service Market 2024 by G...</td>\n",
       "      <td>0.733912</td>\n",
       "      <td>Tech Companies</td>\n",
       "    </tr>\n",
       "    <tr>\n",
       "      <th>2098</th>\n",
       "      <td>Artificial Intelligence (AI) as a Service Mark...</td>\n",
       "      <td>0.716813</td>\n",
       "      <td>Tech Companies</td>\n",
       "    </tr>\n",
       "    <tr>\n",
       "      <th>1931</th>\n",
       "      <td>Global Cloud Computing Market Insights Report ...</td>\n",
       "      <td>0.701312</td>\n",
       "      <td>Tech Companies</td>\n",
       "    </tr>\n",
       "    <tr>\n",
       "      <th>807</th>\n",
       "      <td>Know How Cloud Computing Education Market is d...</td>\n",
       "      <td>0.696775</td>\n",
       "      <td>Tech Companies</td>\n",
       "    </tr>\n",
       "    <tr>\n",
       "      <th>2409</th>\n",
       "      <td>Announcing Google Cloud VMware Engine</td>\n",
       "      <td>0.696650</td>\n",
       "      <td>Tech Companies</td>\n",
       "    </tr>\n",
       "    <tr>\n",
       "      <th>2810</th>\n",
       "      <td>Top cloud providers in 2020: AWS, Microsoft Az...</td>\n",
       "      <td>0.694050</td>\n",
       "      <td>Tech Companies</td>\n",
       "    </tr>\n",
       "    <tr>\n",
       "      <th>2538</th>\n",
       "      <td>2020 Forbes8 Digital Startup Accelerator Progr...</td>\n",
       "      <td>0.684576</td>\n",
       "      <td>Tech Companies</td>\n",
       "    </tr>\n",
       "    <tr>\n",
       "      <th>690</th>\n",
       "      <td>Slack and Amazon partner to take on Microsoft ...</td>\n",
       "      <td>0.677094</td>\n",
       "      <td>Tech Companies</td>\n",
       "    </tr>\n",
       "    <tr>\n",
       "      <th>399</th>\n",
       "      <td>IBM backs out from facial recognition business...</td>\n",
       "      <td>0.656518</td>\n",
       "      <td>Tech Bias</td>\n",
       "    </tr>\n",
       "    <tr>\n",
       "      <th>368</th>\n",
       "      <td>IBM scraps facial recognition tech over racial...</td>\n",
       "      <td>0.625548</td>\n",
       "      <td>Tech Bias</td>\n",
       "    </tr>\n",
       "    <tr>\n",
       "      <th>230</th>\n",
       "      <td>IBM drops facial recognition software amid rac...</td>\n",
       "      <td>0.622627</td>\n",
       "      <td>Tech Bias</td>\n",
       "    </tr>\n",
       "    <tr>\n",
       "      <th>367</th>\n",
       "      <td>IBM scraps facial recognition tech that could ...</td>\n",
       "      <td>0.611448</td>\n",
       "      <td>Tech Bias</td>\n",
       "    </tr>\n",
       "    <tr>\n",
       "      <th>269</th>\n",
       "      <td>IBM scraps facial recognition citing racial pr...</td>\n",
       "      <td>0.610988</td>\n",
       "      <td>Tech Bias</td>\n",
       "    </tr>\n",
       "    <tr>\n",
       "      <th>384</th>\n",
       "      <td>George Floyd death: IBM scrap facial recogniti...</td>\n",
       "      <td>0.591479</td>\n",
       "      <td>Tech Bias</td>\n",
       "    </tr>\n",
       "    <tr>\n",
       "      <th>337</th>\n",
       "      <td>George Floyd death: IBM scraps facial recognit...</td>\n",
       "      <td>0.588959</td>\n",
       "      <td>Tech Bias</td>\n",
       "    </tr>\n",
       "    <tr>\n",
       "      <th>308</th>\n",
       "      <td>IBM scraps face recognition development over r...</td>\n",
       "      <td>0.583378</td>\n",
       "      <td>Tech Bias</td>\n",
       "    </tr>\n",
       "    <tr>\n",
       "      <th>263</th>\n",
       "      <td>IBM opposes facial recognition tech in racial ...</td>\n",
       "      <td>0.572194</td>\n",
       "      <td>Tech Bias</td>\n",
       "    </tr>\n",
       "    <tr>\n",
       "      <th>313</th>\n",
       "      <td>IBM ends all facial recognition work as CEO ca...</td>\n",
       "      <td>0.570139</td>\n",
       "      <td>Tech Bias</td>\n",
       "    </tr>\n",
       "    <tr>\n",
       "      <th>557</th>\n",
       "      <td>Wipro collaborates with IBM to provide compreh...</td>\n",
       "      <td>0.703952</td>\n",
       "      <td>Storage</td>\n",
       "    </tr>\n",
       "    <tr>\n",
       "      <th>1076</th>\n",
       "      <td>Megaport launches its NaaS platform in France,...</td>\n",
       "      <td>0.697179</td>\n",
       "      <td>Storage</td>\n",
       "    </tr>\n",
       "    <tr>\n",
       "      <th>1007</th>\n",
       "      <td>NaaS platform launched in France claiming fast...</td>\n",
       "      <td>0.686404</td>\n",
       "      <td>Storage</td>\n",
       "    </tr>\n",
       "    <tr>\n",
       "      <th>614</th>\n",
       "      <td>IBM releases a toolkit to keep data encrypted ...</td>\n",
       "      <td>0.674562</td>\n",
       "      <td>Storage</td>\n",
       "    </tr>\n",
       "    <tr>\n",
       "      <th>549</th>\n",
       "      <td>Wipro and IBM collaborate to offer hybrid clou...</td>\n",
       "      <td>0.647294</td>\n",
       "      <td>Storage</td>\n",
       "    </tr>\n",
       "    <tr>\n",
       "      <th>757</th>\n",
       "      <td>Actifio Webinar: Rapid Cloning for SAP HANA Da...</td>\n",
       "      <td>0.635696</td>\n",
       "      <td>Storage</td>\n",
       "    </tr>\n",
       "    <tr>\n",
       "      <th>22</th>\n",
       "      <td>IBM blames massive cloud outage on third-party...</td>\n",
       "      <td>0.635068</td>\n",
       "      <td>Storage</td>\n",
       "    </tr>\n",
       "    <tr>\n",
       "      <th>2362</th>\n",
       "      <td>Megaport deploys new SDN cloud on-ramp at Edge...</td>\n",
       "      <td>0.632924</td>\n",
       "      <td>Storage</td>\n",
       "    </tr>\n",
       "    <tr>\n",
       "      <th>899</th>\n",
       "      <td>IBM and Persistent Systems collaborate to acce...</td>\n",
       "      <td>0.626556</td>\n",
       "      <td>Storage</td>\n",
       "    </tr>\n",
       "    <tr>\n",
       "      <th>2476</th>\n",
       "      <td>IBM Sterling B2B Integrator Standard Edition u...</td>\n",
       "      <td>0.625687</td>\n",
       "      <td>Storage</td>\n",
       "    </tr>\n",
       "  </tbody>\n",
       "</table>\n",
       "</div>"
      ],
      "text/plain": [
       "                                                  title     score  \\\n",
       "258   Cloud NLP Market Growth Analysis to 2024: Appl...  0.828172   \n",
       "38    AI in Fintech Market Production & Demand by 20...  0.764505   \n",
       "1233  Global Analytics as a Service Market 2024 by G...  0.733912   \n",
       "2098  Artificial Intelligence (AI) as a Service Mark...  0.716813   \n",
       "1931  Global Cloud Computing Market Insights Report ...  0.701312   \n",
       "807   Know How Cloud Computing Education Market is d...  0.696775   \n",
       "2409              Announcing Google Cloud VMware Engine  0.696650   \n",
       "2810  Top cloud providers in 2020: AWS, Microsoft Az...  0.694050   \n",
       "2538  2020 Forbes8 Digital Startup Accelerator Progr...  0.684576   \n",
       "690   Slack and Amazon partner to take on Microsoft ...  0.677094   \n",
       "399   IBM backs out from facial recognition business...  0.656518   \n",
       "368   IBM scraps facial recognition tech over racial...  0.625548   \n",
       "230   IBM drops facial recognition software amid rac...  0.622627   \n",
       "367   IBM scraps facial recognition tech that could ...  0.611448   \n",
       "269   IBM scraps facial recognition citing racial pr...  0.610988   \n",
       "384   George Floyd death: IBM scrap facial recogniti...  0.591479   \n",
       "337   George Floyd death: IBM scraps facial recognit...  0.588959   \n",
       "308   IBM scraps face recognition development over r...  0.583378   \n",
       "263   IBM opposes facial recognition tech in racial ...  0.572194   \n",
       "313   IBM ends all facial recognition work as CEO ca...  0.570139   \n",
       "557   Wipro collaborates with IBM to provide compreh...  0.703952   \n",
       "1076  Megaport launches its NaaS platform in France,...  0.697179   \n",
       "1007  NaaS platform launched in France claiming fast...  0.686404   \n",
       "614   IBM releases a toolkit to keep data encrypted ...  0.674562   \n",
       "549   Wipro and IBM collaborate to offer hybrid clou...  0.647294   \n",
       "757   Actifio Webinar: Rapid Cloning for SAP HANA Da...  0.635696   \n",
       "22    IBM blames massive cloud outage on third-party...  0.635068   \n",
       "2362  Megaport deploys new SDN cloud on-ramp at Edge...  0.632924   \n",
       "899   IBM and Persistent Systems collaborate to acce...  0.626556   \n",
       "2476  IBM Sterling B2B Integrator Standard Edition u...  0.625687   \n",
       "\n",
       "               topic  \n",
       "258   Tech Companies  \n",
       "38    Tech Companies  \n",
       "1233  Tech Companies  \n",
       "2098  Tech Companies  \n",
       "1931  Tech Companies  \n",
       "807   Tech Companies  \n",
       "2409  Tech Companies  \n",
       "2810  Tech Companies  \n",
       "2538  Tech Companies  \n",
       "690   Tech Companies  \n",
       "399        Tech Bias  \n",
       "368        Tech Bias  \n",
       "230        Tech Bias  \n",
       "367        Tech Bias  \n",
       "269        Tech Bias  \n",
       "384        Tech Bias  \n",
       "337        Tech Bias  \n",
       "308        Tech Bias  \n",
       "263        Tech Bias  \n",
       "313        Tech Bias  \n",
       "557          Storage  \n",
       "1076         Storage  \n",
       "1007         Storage  \n",
       "614          Storage  \n",
       "549          Storage  \n",
       "757          Storage  \n",
       "22           Storage  \n",
       "2362         Storage  \n",
       "899          Storage  \n",
       "2476         Storage  "
      ]
     },
     "execution_count": 61,
     "metadata": {},
     "output_type": "execute_result"
    }
   ],
   "source": [
    "#Displaying top 30 results for ease of inspection\n",
    "dfFINAL.head(30)"
   ]
  },
  {
   "cell_type": "code",
   "execution_count": 62,
   "metadata": {},
   "outputs": [],
   "source": [
    "#INSPECTING TOTAL DF OUTPUT "
   ]
  },
  {
   "cell_type": "code",
   "execution_count": 63,
   "metadata": {},
   "outputs": [
    {
     "data": {
      "text/html": [
       "<div>\n",
       "<style scoped>\n",
       "    .dataframe tbody tr th:only-of-type {\n",
       "        vertical-align: middle;\n",
       "    }\n",
       "\n",
       "    .dataframe tbody tr th {\n",
       "        vertical-align: top;\n",
       "    }\n",
       "\n",
       "    .dataframe thead th {\n",
       "        text-align: right;\n",
       "    }\n",
       "</style>\n",
       "<table border=\"1\" class=\"dataframe\">\n",
       "  <thead>\n",
       "    <tr style=\"text-align: right;\">\n",
       "      <th></th>\n",
       "      <th>title</th>\n",
       "      <th>score</th>\n",
       "      <th>topic</th>\n",
       "    </tr>\n",
       "  </thead>\n",
       "  <tbody>\n",
       "    <tr>\n",
       "      <th>258</th>\n",
       "      <td>Cloud NLP Market Growth Analysis to 2024: Appl...</td>\n",
       "      <td>0.828172</td>\n",
       "      <td>Tech Companies</td>\n",
       "    </tr>\n",
       "    <tr>\n",
       "      <th>38</th>\n",
       "      <td>AI in Fintech Market Production &amp; Demand by 20...</td>\n",
       "      <td>0.764505</td>\n",
       "      <td>Tech Companies</td>\n",
       "    </tr>\n",
       "    <tr>\n",
       "      <th>1233</th>\n",
       "      <td>Global Analytics as a Service Market 2024 by G...</td>\n",
       "      <td>0.733912</td>\n",
       "      <td>Tech Companies</td>\n",
       "    </tr>\n",
       "    <tr>\n",
       "      <th>2098</th>\n",
       "      <td>Artificial Intelligence (AI) as a Service Mark...</td>\n",
       "      <td>0.716813</td>\n",
       "      <td>Tech Companies</td>\n",
       "    </tr>\n",
       "    <tr>\n",
       "      <th>1931</th>\n",
       "      <td>Global Cloud Computing Market Insights Report ...</td>\n",
       "      <td>0.701312</td>\n",
       "      <td>Tech Companies</td>\n",
       "    </tr>\n",
       "    <tr>\n",
       "      <th>...</th>\n",
       "      <td>...</td>\n",
       "      <td>...</td>\n",
       "      <td>...</td>\n",
       "    </tr>\n",
       "    <tr>\n",
       "      <th>2210</th>\n",
       "      <td>Intellect Design launches iTurmeric FinCloud d...</td>\n",
       "      <td>0.557053</td>\n",
       "      <td>Aritifical Intelligence</td>\n",
       "    </tr>\n",
       "    <tr>\n",
       "      <th>395</th>\n",
       "      <td>IBM will no longer develop facial recognition ...</td>\n",
       "      <td>0.552058</td>\n",
       "      <td>Aritifical Intelligence</td>\n",
       "    </tr>\n",
       "    <tr>\n",
       "      <th>2123</th>\n",
       "      <td>Why is business intelligence important for an ...</td>\n",
       "      <td>0.551558</td>\n",
       "      <td>Aritifical Intelligence</td>\n",
       "    </tr>\n",
       "    <tr>\n",
       "      <th>326</th>\n",
       "      <td>IBM says it won’t offer facial recognition any...</td>\n",
       "      <td>0.541244</td>\n",
       "      <td>Aritifical Intelligence</td>\n",
       "    </tr>\n",
       "    <tr>\n",
       "      <th>2365</th>\n",
       "      <td>Goddard adds electrical engineering capabiliti...</td>\n",
       "      <td>0.539672</td>\n",
       "      <td>Aritifical Intelligence</td>\n",
       "    </tr>\n",
       "  </tbody>\n",
       "</table>\n",
       "<p>190 rows × 3 columns</p>\n",
       "</div>"
      ],
      "text/plain": [
       "                                                  title     score  \\\n",
       "258   Cloud NLP Market Growth Analysis to 2024: Appl...  0.828172   \n",
       "38    AI in Fintech Market Production & Demand by 20...  0.764505   \n",
       "1233  Global Analytics as a Service Market 2024 by G...  0.733912   \n",
       "2098  Artificial Intelligence (AI) as a Service Mark...  0.716813   \n",
       "1931  Global Cloud Computing Market Insights Report ...  0.701312   \n",
       "...                                                 ...       ...   \n",
       "2210  Intellect Design launches iTurmeric FinCloud d...  0.557053   \n",
       "395   IBM will no longer develop facial recognition ...  0.552058   \n",
       "2123  Why is business intelligence important for an ...  0.551558   \n",
       "326   IBM says it won’t offer facial recognition any...  0.541244   \n",
       "2365  Goddard adds electrical engineering capabiliti...  0.539672   \n",
       "\n",
       "                        topic  \n",
       "258            Tech Companies  \n",
       "38             Tech Companies  \n",
       "1233           Tech Companies  \n",
       "2098           Tech Companies  \n",
       "1931           Tech Companies  \n",
       "...                       ...  \n",
       "2210  Aritifical Intelligence  \n",
       "395   Aritifical Intelligence  \n",
       "2123  Aritifical Intelligence  \n",
       "326   Aritifical Intelligence  \n",
       "2365  Aritifical Intelligence  \n",
       "\n",
       "[190 rows x 3 columns]"
      ]
     },
     "execution_count": 63,
     "metadata": {},
     "output_type": "execute_result"
    }
   ],
   "source": [
    "dfFINAL"
   ]
  },
  {
   "cell_type": "code",
   "execution_count": null,
   "metadata": {},
   "outputs": [],
   "source": [
    "#End of Assignment 9 !!!!!!!!!!!!"
   ]
  }
 ],
 "metadata": {
  "kernelspec": {
   "display_name": "Python 3",
   "language": "python",
   "name": "python3"
  },
  "language_info": {
   "codemirror_mode": {
    "name": "ipython",
    "version": 3
   },
   "file_extension": ".py",
   "mimetype": "text/x-python",
   "name": "python",
   "nbconvert_exporter": "python",
   "pygments_lexer": "ipython3",
   "version": "3.7.3"
  }
 },
 "nbformat": 4,
 "nbformat_minor": 4
}
